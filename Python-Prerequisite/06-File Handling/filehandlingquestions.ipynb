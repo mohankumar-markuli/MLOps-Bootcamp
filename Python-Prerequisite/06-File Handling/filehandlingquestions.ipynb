{
 "cells": [
  {
   "cell_type": "markdown",
   "id": "b3c6c923",
   "metadata": {},
   "source": [
    "# Module: File Handling Assignments\n",
    "## Lesson: File Handling and Operations\n",
    "### Assignment 1: Reading a File\n",
    "\n",
    "Write a function that reads the contents of a file named `sample.txt` and prints each line."
   ]
  },
  {
   "cell_type": "code",
   "execution_count": null,
   "id": "9a6f5d5e",
   "metadata": {},
   "outputs": [],
   "source": []
  },
  {
   "cell_type": "markdown",
   "id": "4c392bdf",
   "metadata": {},
   "source": [
    "### Assignment 2: Writing to a File\n",
    "\n",
    "Write a function that writes a list of strings to a file named `output.txt`, with each string on a new line."
   ]
  },
  {
   "cell_type": "code",
   "execution_count": null,
   "id": "8276ee6f",
   "metadata": {},
   "outputs": [],
   "source": []
  },
  {
   "cell_type": "markdown",
   "id": "e70ffe4e",
   "metadata": {},
   "source": [
    "### Assignment 3: Copying a File\n",
    "\n",
    "Write a function that copies the contents of a file named `source.txt` to a new file named `destination.txt`."
   ]
  },
  {
   "cell_type": "code",
   "execution_count": null,
   "id": "3e9b7a25",
   "metadata": {},
   "outputs": [],
   "source": []
  },
  {
   "cell_type": "markdown",
   "id": "08acc1e8",
   "metadata": {},
   "source": [
    "### Assignment 4: Appending to a File\n",
    "\n",
    "Write a function that appends a given string to the end of a file named `log.txt`."
   ]
  },
  {
   "cell_type": "code",
   "execution_count": null,
   "id": "328f081b",
   "metadata": {},
   "outputs": [],
   "source": []
  },
  {
   "cell_type": "markdown",
   "id": "c74294b0",
   "metadata": {},
   "source": [
    "### Assignment 5: Counting Words in a File\n",
    "\n",
    "Write a function that reads the contents of a file named `document.txt` and returns the number of words in the file."
   ]
  },
  {
   "cell_type": "code",
   "execution_count": null,
   "id": "2cac0a74",
   "metadata": {},
   "outputs": [],
   "source": []
  },
  {
   "cell_type": "markdown",
   "id": "86aac768",
   "metadata": {},
   "source": [
    "### Assignment 6: Finding and Replacing Text\n",
    "\n",
    "Write a function that finds and replaces all occurrences of a given word in a file named `data.txt` with another word."
   ]
  },
  {
   "cell_type": "code",
   "execution_count": null,
   "id": "d5a31d6d",
   "metadata": {},
   "outputs": [],
   "source": []
  },
  {
   "cell_type": "markdown",
   "id": "fe957e55",
   "metadata": {},
   "source": [
    "### Assignment 7: Reading a File in Reverse\n",
    "\n",
    "Write a function that reads the contents of a file named `reverse.txt` and prints each line in reverse order."
   ]
  },
  {
   "cell_type": "code",
   "execution_count": null,
   "id": "2d35aa39",
   "metadata": {},
   "outputs": [],
   "source": []
  },
  {
   "cell_type": "markdown",
   "id": "05b4c6c8",
   "metadata": {},
   "source": [
    "### Assignment 8: Counting Lines, Words, and Characters\n",
    "\n",
    "Write a function that reads the contents of a file named `stats.txt` and returns the number of lines, words, and characters in the file."
   ]
  },
  {
   "cell_type": "code",
   "execution_count": null,
   "id": "86486b4a",
   "metadata": {},
   "outputs": [],
   "source": []
  },
  {
   "cell_type": "markdown",
   "id": "909e4d4e",
   "metadata": {},
   "source": [
    "### Assignment 9: Merging Multiple Files\n",
    "\n",
    "Write a function that merges the contents of multiple files into a single file named `merged.txt`."
   ]
  },
  {
   "cell_type": "code",
   "execution_count": null,
   "id": "d0f20943",
   "metadata": {},
   "outputs": [],
   "source": []
  },
  {
   "cell_type": "markdown",
   "id": "81f2eed3",
   "metadata": {},
   "source": [
    "### Assignment 10: Splitting a Large File\n",
    "\n",
    "Write a function that splits a large file named `large.txt` into smaller files of 100 lines each."
   ]
  },
  {
   "cell_type": "code",
   "execution_count": null,
   "id": "78276949",
   "metadata": {},
   "outputs": [],
   "source": []
  },
  {
   "cell_type": "markdown",
   "id": "c0d3f48f",
   "metadata": {},
   "source": [
    "### Assignment 11: Creating a Log File\n",
    "\n",
    "Write a function that creates a log file named `activity.log` and writes log messages with timestamps."
   ]
  },
  {
   "cell_type": "code",
   "execution_count": null,
   "id": "58ad1fc4",
   "metadata": {},
   "outputs": [],
   "source": []
  },
  {
   "cell_type": "markdown",
   "id": "8cfe75ef",
   "metadata": {},
   "source": [
    "### Assignment 12: Binary File Operations\n",
    "\n",
    "Write a function that reads a binary file named `image.bin` and writes its contents to another binary file named `copy_image.bin`."
   ]
  },
  {
   "cell_type": "code",
   "execution_count": null,
   "id": "efb02d7c",
   "metadata": {},
   "outputs": [],
   "source": []
  },
  {
   "cell_type": "markdown",
   "metadata": {},
   "source": [
    "### Assignment 13: CSV File Operations\n",
    "\n",
    "Write a function that reads a CSV file named `data.csv` and prints its contents as a list of dictionaries."
   ]
  },
  {
   "cell_type": "code",
   "execution_count": null,
   "metadata": {},
   "outputs": [],
   "source": []
  },
  {
   "cell_type": "markdown",
   "id": "b6d846d1",
   "metadata": {},
   "source": [
    "### Assignment 14: JSON File Operations\n",
    "\n",
    "Write a function that reads a JSON file named `data.json` and prints its contents as a Python dictionary."
   ]
  },
  {
   "cell_type": "code",
   "execution_count": null,
   "id": "e3dcc063",
   "metadata": {},
   "outputs": [],
   "source": []
  },
  {
   "cell_type": "markdown",
   "id": "a34437ae",
   "metadata": {},
   "source": [
    "### Assignment 15: File Permission Handling\n",
    "\n",
    "Write a function that attempts to read a file named `protected.txt` and handles any permission errors gracefully by printing an error message."
   ]
  },
  {
   "cell_type": "code",
   "execution_count": null,
   "id": "b4fb5b65",
   "metadata": {},
   "outputs": [],
   "source": []
  }
 ],
 "metadata": {
  "kernelspec": {
   "display_name": "Python 3",
   "language": "python",
   "name": "python3"
  },
  "language_info": {
   "codemirror_mode": {
    "name": "ipython",
    "version": 3
   },
   "file_extension": ".py",
   "mimetype": "text/x-python",
   "name": "python",
   "nbconvert_exporter": "python",
   "pygments_lexer": "ipython3",
   "version": "3.9.7"
  }
 },
 "nbformat": 4,
 "nbformat_minor": 5
}
