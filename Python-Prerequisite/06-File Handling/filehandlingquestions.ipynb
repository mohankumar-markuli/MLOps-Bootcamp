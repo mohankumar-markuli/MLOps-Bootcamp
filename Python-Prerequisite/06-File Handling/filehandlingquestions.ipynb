{
 "cells": [
  {
   "cell_type": "markdown",
   "id": "b3c6c923",
   "metadata": {},
   "source": [
    "# Module: File Handling Assignments\n",
    "## Lesson: File Handling and Operations\n",
    "### Assignment 1: Reading a File\n",
    "\n",
    "Write a function that reads the contents of a file named `sample.txt` and prints each line."
   ]
  },
  {
   "cell_type": "code",
   "execution_count": 5,
   "id": "9a6f5d5e",
   "metadata": {},
   "outputs": [],
   "source": [
    "import os\n",
    "with open(\"sample.txt\", 'w') as file:\n",
    "    file.write('Hello World! \\n')\n",
    "    file.write(\"This is a new line \\n\")\n",
    "    file.write(\"Append operation taking place!\")\n"
   ]
  },
  {
   "cell_type": "code",
   "execution_count": null,
   "id": "57e17370",
   "metadata": {},
   "outputs": [
    {
     "name": "stdout",
     "output_type": "stream",
     "text": [
      "['Hello World! \\n', 'This is a new line \\n', 'Append operation taking place!']\n",
      "Hello World! \n",
      "\n",
      "This is a new line \n",
      "\n",
      "Append operation taking place!\n"
     ]
    }
   ],
   "source": [
    "with open(\"sample.txt\", 'r') as file:\n",
    "    lines = file.readlines()\n",
    "    print(lines)\n",
    "    for line in lines:\n",
    "        print(line)"
   ]
  },
  {
   "cell_type": "code",
   "execution_count": 30,
   "id": "65af9a4b",
   "metadata": {},
   "outputs": [
    {
     "name": "stdout",
     "output_type": "stream",
     "text": [
      "Hello World! \n",
      "This is a new line \n",
      "Append operation taking place!\n",
      "Hello World! \n",
      "This is a new line \n",
      "Append operation taking place!\n",
      "['Hello World! ', 'This is a new line ', 'Append operation taking place!']\n"
     ]
    }
   ],
   "source": [
    "with open(\"sample.txt\", 'r') as file:\n",
    "    content = file.read()\n",
    "\n",
    "print(content)\n",
    "for line in content.splitlines():\n",
    "    print(line)\n",
    "\n",
    "list_of_strings = content.splitlines()\n",
    "print(list_of_strings)"
   ]
  },
  {
   "cell_type": "markdown",
   "id": "4c392bdf",
   "metadata": {},
   "source": [
    "### Assignment 2: Writing to a File\n",
    "\n",
    "Write a function that writes a list of strings to a file named `output.txt`, with each string on a new line."
   ]
  },
  {
   "cell_type": "code",
   "execution_count": 32,
   "id": "8276ee6f",
   "metadata": {},
   "outputs": [
    {
     "name": "stdout",
     "output_type": "stream",
     "text": [
      "['Hello World! ', 'This is a new line ', 'Append operation taking place!']\n"
     ]
    }
   ],
   "source": [
    "print(list_of_strings)\n",
    "with open(\"output.txt\", 'w') as file:\n",
    "    for line in list_of_strings:\n",
    "        file.write(line + '\\n')"
   ]
  },
  {
   "cell_type": "markdown",
   "id": "e70ffe4e",
   "metadata": {},
   "source": [
    "### Assignment 3: Copying a File\n",
    "\n",
    "Write a function that copies the contents of a file named `source.txt` to a new file named `destination.txt`."
   ]
  },
  {
   "cell_type": "code",
   "execution_count": 33,
   "id": "3e9b7a25",
   "metadata": {},
   "outputs": [],
   "source": [
    "with open(\"source.txt\", 'w') as src_file:\n",
    "    src_file.write(\"This is the source file.\\nIt contains some sample text.\")"
   ]
  },
  {
   "cell_type": "code",
   "execution_count": 39,
   "id": "f01ea263",
   "metadata": {},
   "outputs": [
    {
     "name": "stdout",
     "output_type": "stream",
     "text": [
      "This is the source file.\n",
      "It contains some sample text.\n"
     ]
    }
   ],
   "source": [
    "with open(\"source.txt\",'r') as file:\n",
    "    content = file.read()\n",
    "    print(content)\n",
    "\n",
    "with open('destination.txt','w') as file:\n",
    "    file.write(content)"
   ]
  },
  {
   "cell_type": "markdown",
   "id": "08acc1e8",
   "metadata": {},
   "source": [
    "### Assignment 4: Appending to a File\n",
    "\n",
    "Write a function that appends a given string to the end of a file named `log.txt`."
   ]
  },
  {
   "cell_type": "code",
   "execution_count": 40,
   "id": "328f081b",
   "metadata": {},
   "outputs": [],
   "source": [
    "with open('log.txt','w') as log_file:\n",
    "    string_check = \"This text is to append a string to log\"\n",
    "    log_file.write(string_check)"
   ]
  },
  {
   "cell_type": "markdown",
   "id": "c74294b0",
   "metadata": {},
   "source": [
    "### Assignment 5: Counting Words in a File\n",
    "\n",
    "Write a function that reads the contents of a file named `document.txt` and returns the number of words in the file."
   ]
  },
  {
   "cell_type": "code",
   "execution_count": null,
   "id": "5ca09ae4",
   "metadata": {},
   "outputs": [],
   "source": [
    "with open('source.txt','r') as file:\n",
    "    content = file.read()\n",
    "\n",
    "with open(\"document.txt\", 'w+') as file:\n",
    "    file.write(content)"
   ]
  },
  {
   "cell_type": "code",
   "execution_count": 45,
   "id": "2cac0a74",
   "metadata": {},
   "outputs": [
    {
     "name": "stdout",
     "output_type": "stream",
     "text": [
      "10\n"
     ]
    }
   ],
   "source": [
    "with open(\"document.txt\", 'r') as file:\n",
    "    lines = file.readlines()\n",
    "    word_count = sum(len(line.split()) for line in lines)\n",
    "\n",
    "print(word_count)"
   ]
  },
  {
   "cell_type": "markdown",
   "id": "86aac768",
   "metadata": {},
   "source": [
    "### Assignment 6: Finding and Replacing Text\n",
    "\n",
    "Write a function that finds and replaces all occurrences of a given word in a file named `data.txt` with another word."
   ]
  },
  {
   "cell_type": "code",
   "execution_count": 72,
   "id": "d5a31d6d",
   "metadata": {},
   "outputs": [],
   "source": [
    "with open('data.txt', 'w+') as data_file:\n",
    "    data_file.write(\"Hello guest, welcome to Liverpool.\\nname : guest\")"
   ]
  },
  {
   "cell_type": "code",
   "execution_count": 74,
   "id": "1eb0122c",
   "metadata": {},
   "outputs": [],
   "source": [
    "given_word = 'mohankumar'\n",
    "with open ('data.txt', 'r') as file:\n",
    "    content = file.read()\n",
    "    new_string = content.replace('guest','mohankumar')\n",
    "\n",
    "with open ('data.txt', 'w') as file:\n",
    "    file.write(new_string)"
   ]
  },
  {
   "cell_type": "code",
   "execution_count": 71,
   "id": "147ff8df",
   "metadata": {},
   "outputs": [
    {
     "data": {
      "text/plain": [
       "'Hello mohankumar, welcome to Liverpool.\\n name : mohankumar'"
      ]
     },
     "execution_count": 71,
     "metadata": {},
     "output_type": "execute_result"
    }
   ],
   "source": [
    "string = \"Hello guest, welcome to Liverpool.\\n name : guest\"\n",
    "string.replace('guest','mohankumar')"
   ]
  },
  {
   "cell_type": "markdown",
   "id": "fe957e55",
   "metadata": {},
   "source": [
    "### Assignment 7: Reading a File in Reverse\n",
    "\n",
    "Write a function that reads the contents of a file named `reverse.txt` and prints each line in reverse order."
   ]
  },
  {
   "cell_type": "code",
   "execution_count": 103,
   "id": "2d35aa39",
   "metadata": {},
   "outputs": [
    {
     "name": "stdout",
     "output_type": "stream",
     "text": [
      "Liverpool. to welcome guest, Hello\n",
      "guest : name\n",
      "['Hello guest, welcome to Liverpool.\\n', 'name : guest']\n",
      "Hello guest, welcome to Liverpool.\n",
      "\n",
      "Hello guest, welcome to Liverpool.\n",
      "['Hello', 'guest,', 'welcome', 'to', 'Liverpool.']\n",
      "['Liverpool.', 'to', 'welcome', 'guest,', 'Hello']\n",
      "['Hello', 'guest,', 'welcome', 'to', 'Liverpool.']\n",
      "['Liverpool.', 'to', 'welcome', 'guest,', 'Hello']\n"
     ]
    }
   ],
   "source": [
    "with open('reverse.txt','w+') as reverse_file:\n",
    "    reverse_file.write(content)\n",
    "\n",
    "    reverse_file.seek(0)\n",
    "    lines = reverse_file.readlines()\n",
    "    for line in lines:\n",
    "        reversed_words = ' '.join(line.strip().split()[::-1])\n",
    "        print(reversed_words)\n",
    "\n",
    "\n",
    "print(lines)\n",
    "print(lines[0])\n",
    "print(lines[0].strip())\n",
    "print(lines[0].split())\n",
    "print(lines[0].split()[::-1])\n",
    "print(lines[0].strip().split())\n",
    "\n",
    "print(lines[0].strip().split()[::-1])"
   ]
  },
  {
   "cell_type": "markdown",
   "id": "05b4c6c8",
   "metadata": {},
   "source": [
    "### Assignment 8: Counting Lines, Words, and Characters\n",
    "\n",
    "Write a function that reads the contents of a file named `stats.txt` and returns the number of lines, words, and characters in the file."
   ]
  },
  {
   "cell_type": "code",
   "execution_count": null,
   "id": "86486b4a",
   "metadata": {},
   "outputs": [],
   "source": []
  },
  {
   "cell_type": "markdown",
   "id": "909e4d4e",
   "metadata": {},
   "source": [
    "### Assignment 9: Merging Multiple Files\n",
    "\n",
    "Write a function that merges the contents of multiple files into a single file named `merged.txt`."
   ]
  },
  {
   "cell_type": "code",
   "execution_count": null,
   "id": "d0f20943",
   "metadata": {},
   "outputs": [],
   "source": []
  },
  {
   "cell_type": "markdown",
   "id": "81f2eed3",
   "metadata": {},
   "source": [
    "### Assignment 10: Splitting a Large File\n",
    "\n",
    "Write a function that splits a large file named `large.txt` into smaller files of 100 lines each."
   ]
  },
  {
   "cell_type": "code",
   "execution_count": null,
   "id": "78276949",
   "metadata": {},
   "outputs": [],
   "source": []
  },
  {
   "cell_type": "markdown",
   "id": "c0d3f48f",
   "metadata": {},
   "source": [
    "### Assignment 11: Creating a Log File\n",
    "\n",
    "Write a function that creates a log file named `activity.log` and writes log messages with timestamps."
   ]
  },
  {
   "cell_type": "code",
   "execution_count": null,
   "id": "58ad1fc4",
   "metadata": {},
   "outputs": [],
   "source": []
  },
  {
   "cell_type": "markdown",
   "id": "8cfe75ef",
   "metadata": {},
   "source": [
    "### Assignment 12: Binary File Operations\n",
    "\n",
    "Write a function that reads a binary file named `image.bin` and writes its contents to another binary file named `copy_image.bin`."
   ]
  },
  {
   "cell_type": "code",
   "execution_count": null,
   "id": "efb02d7c",
   "metadata": {},
   "outputs": [],
   "source": []
  },
  {
   "cell_type": "markdown",
   "metadata": {},
   "source": [
    "### Assignment 13: CSV File Operations\n",
    "\n",
    "Write a function that reads a CSV file named `data.csv` and prints its contents as a list of dictionaries."
   ]
  },
  {
   "cell_type": "code",
   "execution_count": null,
   "metadata": {},
   "outputs": [],
   "source": []
  },
  {
   "cell_type": "markdown",
   "id": "b6d846d1",
   "metadata": {},
   "source": [
    "### Assignment 14: JSON File Operations\n",
    "\n",
    "Write a function that reads a JSON file named `data.json` and prints its contents as a Python dictionary."
   ]
  },
  {
   "cell_type": "code",
   "execution_count": null,
   "id": "e3dcc063",
   "metadata": {},
   "outputs": [],
   "source": []
  },
  {
   "cell_type": "markdown",
   "id": "a34437ae",
   "metadata": {},
   "source": [
    "### Assignment 15: File Permission Handling\n",
    "\n",
    "Write a function that attempts to read a file named `protected.txt` and handles any permission errors gracefully by printing an error message."
   ]
  },
  {
   "cell_type": "code",
   "execution_count": null,
   "id": "b4fb5b65",
   "metadata": {},
   "outputs": [],
   "source": []
  }
 ],
 "metadata": {
  "kernelspec": {
   "display_name": "Python 3",
   "language": "python",
   "name": "python3"
  },
  "language_info": {
   "codemirror_mode": {
    "name": "ipython",
    "version": 3
   },
   "file_extension": ".py",
   "mimetype": "text/x-python",
   "name": "python",
   "nbconvert_exporter": "python",
   "pygments_lexer": "ipython3",
   "version": "3.12.0"
  }
 },
 "nbformat": 4,
 "nbformat_minor": 5
}
