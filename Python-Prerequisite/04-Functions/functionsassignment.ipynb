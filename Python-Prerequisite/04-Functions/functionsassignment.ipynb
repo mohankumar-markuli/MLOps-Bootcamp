{
 "cells": [
  {
   "cell_type": "markdown",
   "id": "0e248e97",
   "metadata": {},
   "source": [
    "# Module 4: Functions Assignments\n",
    "## Lesson 4.1: Defining Functions\n",
    "### Assignment 1: Simple Function\n",
    "\n",
    "Define a function that takes a single integer as input and returns its square. Test the function with different inputs."
   ]
  },
  {
   "cell_type": "code",
   "execution_count": 32,
   "id": "995f4cce",
   "metadata": {},
   "outputs": [
    {
     "ename": "ValueError",
     "evalue": "invalid literal for int() with base 10: ''",
     "output_type": "error",
     "traceback": [
      "\u001b[31m---------------------------------------------------------------------------\u001b[39m",
      "\u001b[31mValueError\u001b[39m                                Traceback (most recent call last)",
      "\u001b[36mCell\u001b[39m\u001b[36m \u001b[39m\u001b[32mIn[32]\u001b[39m\u001b[32m, line 6\u001b[39m\n\u001b[32m      3\u001b[39m     result = num * num\n\u001b[32m      4\u001b[39m     \u001b[38;5;28mprint\u001b[39m(\u001b[33mf\u001b[39m\u001b[33m\"\u001b[39m\u001b[33mThe square of \u001b[39m\u001b[38;5;132;01m{\u001b[39;00mnum\u001b[38;5;132;01m}\u001b[39;00m\u001b[33m is \u001b[39m\u001b[38;5;132;01m{\u001b[39;00mresult\u001b[38;5;132;01m}\u001b[39;00m\u001b[33m\"\u001b[39m)\n\u001b[32m----> \u001b[39m\u001b[32m6\u001b[39m number = \u001b[38;5;28;43mint\u001b[39;49m\u001b[43m(\u001b[49m\u001b[38;5;28;43minput\u001b[39;49m\u001b[43m(\u001b[49m\u001b[33;43m\"\u001b[39;49m\u001b[33;43mEnter a number: \u001b[39;49m\u001b[33;43m\"\u001b[39;49m\u001b[43m)\u001b[49m\u001b[43m)\u001b[49m\n\u001b[32m      7\u001b[39m square(number)\n",
      "\u001b[31mValueError\u001b[39m: invalid literal for int() with base 10: ''"
     ]
    }
   ],
   "source": [
    "def square(num):\n",
    "    \"\"\"Function to calculate the square of a number.\"\"\"\n",
    "    result = num * num\n",
    "    print(f\"The square of {num} is {result}\")\n",
    "\n",
    "number = int(input(\"Enter a number: \"))\n",
    "square(number)"
   ]
  },
  {
   "cell_type": "markdown",
   "id": "2a2fa977",
   "metadata": {},
   "source": [
    "### Assignment 2: Multiple Arguments\n",
    "\n",
    "Define a function that takes two integers as input and returns their sum. Test the function with different inputs."
   ]
  },
  {
   "cell_type": "code",
   "execution_count": null,
   "id": "896217de",
   "metadata": {},
   "outputs": [
    {
     "name": "stdout",
     "output_type": "stream",
     "text": [
      "The sum of 2 and 5 is 7\n"
     ]
    }
   ],
   "source": [
    "def sum(num1, num2):\n",
    "    \"\"\"Function to calculate the sum of two numbers.\"\"\"\n",
    "    result = num1 + num2\n",
    "    print(f\"The sum of {num1} and {num2} is {result}\")\n",
    "\n",
    "number1 = int(input(\"Enter another number: \"))\n",
    "number2 = int(input(\"Enter a second number: \"))\n",
    "\n",
    "sum(number1, number2)"
   ]
  },
  {
   "cell_type": "markdown",
   "id": "70da42db",
   "metadata": {},
   "source": [
    "### Assignment 3: Default Arguments\n",
    "\n",
    "Define a function that takes two integers as input and returns their sum. The second integer should have a default value of 5. Test the function with different inputs."
   ]
  },
  {
   "cell_type": "code",
   "execution_count": null,
   "id": "e7e27d98",
   "metadata": {},
   "outputs": [
    {
     "name": "stdout",
     "output_type": "stream",
     "text": [
      "The sum of 2 and 4 is 6\n",
      "The sum of 2 and 5 is 7\n"
     ]
    }
   ],
   "source": [
    "def sum(num1, num2=5):\n",
    "    \"\"\"Function to calculate the sum of two numbers.\"\"\"\n",
    "    result = num1 + num2\n",
    "    print(f\"The sum of {num1} and {num2} is {result}\")\n",
    "\n",
    "number1 = int(input(\"Enter another number: \"))\n",
    "number2 = int(input(\"Enter a second number: \"))\n",
    "\n",
    "sum(number1, number2)\n",
    "sum(number1)"
   ]
  },
  {
   "cell_type": "markdown",
   "id": "0cc75228",
   "metadata": {},
   "source": [
    "### Assignment 4: Keyword Arguments\n",
    "\n",
    "Define a function that takes three named arguments: first_name, last_name, and age, and returns a formatted string. Test the function with different inputs."
   ]
  },
  {
   "cell_type": "code",
   "execution_count": null,
   "id": "b37d39ea",
   "metadata": {},
   "outputs": [
    {
     "name": "stdout",
     "output_type": "stream",
     "text": [
      "Hello Mohankumar Markuli, you are 5 years old.\n"
     ]
    }
   ],
   "source": [
    "first_name = input(\"Enter your first name: \")\n",
    "last_name = input(\"Enter your last name: \")\n",
    "age = int(input(\"Enter your age: \"))\n",
    "\n",
    "def greet_user(first_name, last_name, age):\n",
    "    return f\"Hello {first_name} {last_name}, you are {age} years old.\"\n",
    "\n",
    "greeting = greet_user(first_name, last_name, age)\n",
    "print(greeting)"
   ]
  },
  {
   "cell_type": "markdown",
   "id": "1b7853b4",
   "metadata": {},
   "source": [
    "### Assignment 5: Variable-length Arguments\n",
    "\n",
    "Define a function that takes a variable number of integer arguments and returns their product. Test the function with different inputs."
   ]
  },
  {
   "cell_type": "code",
   "execution_count": null,
   "id": "8d16f985",
   "metadata": {},
   "outputs": [
    {
     "name": "stdout",
     "output_type": "stream",
     "text": [
      "[3, 6]\n",
      "The product of the numbers is: 18\n"
     ]
    }
   ],
   "source": [
    "list_of_numbers = []\n",
    "\n",
    "while True:\n",
    "    input_number = int(input(\"Enter a number (0 to exit): \"))\n",
    "    if input_number == 0:\n",
    "        break\n",
    "    list_of_numbers.append(input_number)\n",
    "\n",
    "print(list_of_numbers)\n",
    "\n",
    "def product_of_numbers(*args):\n",
    "    \"\"\"Function to calculate the product of multiple numbers.\"\"\"\n",
    "    product = 1\n",
    "    for number in args:\n",
    "        product *= number\n",
    "    return product\n",
    "\n",
    "print(f\"The product of the numbers is: {product_of_numbers(*list_of_numbers)}\")"
   ]
  },
  {
   "cell_type": "markdown",
   "id": "835ef3f2",
   "metadata": {},
   "source": [
    "### Assignment 6: Nested Functions\n",
    "\n",
    "Define a function that contains another function inside it. The outer function should take two integers as input and return the result of the inner function, which multiplies the two integers. Test the function with different inputs."
   ]
  },
  {
   "cell_type": "code",
   "execution_count": null,
   "id": "a9d06023",
   "metadata": {},
   "outputs": [
    {
     "name": "stdout",
     "output_type": "stream",
     "text": [
      "The result of the outer function with inputs 3 and 5        is: 15\n"
     ]
    }
   ],
   "source": [
    "def outer_function(num1, num2):\n",
    "    def inner_function():\n",
    "        return num1*num2\n",
    "    return inner_function()\n",
    "\n",
    "input_num1 = int(input(\"Enter the first number: \"))\n",
    "input_num2 = int(input(\"Enter the second number: \"))\n",
    "result_function = outer_function(5, 10)\n",
    "\n",
    "print(f\"The result of the outer function with inputs {input_num1} and {input_num2} \\\n",
    "       is: {outer_function(input_num1, input_num2)}\")\n"
   ]
  },
  {
   "cell_type": "markdown",
   "id": "674ac14d",
   "metadata": {},
   "source": [
    "### Assignment 7: Returning Multiple Values\n",
    "\n",
    "Define a function that takes a single integer as input and returns the integer squared, cubed, and raised to the power of four. Test the function with different inputs."
   ]
  },
  {
   "cell_type": "code",
   "execution_count": null,
   "id": "14ef49a3",
   "metadata": {},
   "outputs": [
    {
     "name": "stdout",
     "output_type": "stream",
     "text": [
      "The square of 8 is: 64\n",
      "The cube of 8 is: 512\n",
      "The 4 power of 8 is: 4096\n"
     ]
    }
   ],
   "source": [
    "def operations(number):\n",
    "    \"\"\"Function to perform various operations on a number.\"\"\"\n",
    "    def square():\n",
    "        return number * number\n",
    "\n",
    "    def cube():\n",
    "        return number * number * number\n",
    "\n",
    "    def four_power_result():\n",
    "        return number ** 4\n",
    "\n",
    "    return square(), cube(), four_power_result()\n",
    "\n",
    "input_number = int(input(\"Enter a number to perform operations: \"))\n",
    "square_result, cube_result, four_power_result = operations(input_number)\n",
    "\n",
    "print(f\"The square of {input_number} is: {square_result}\")\n",
    "print(f\"The cube of {input_number} is: {cube_result}\")\n",
    "print(f\"The 4 power of {input_number} is: {four_power_result}\")\n"
   ]
  },
  {
   "cell_type": "markdown",
   "id": "8a623350",
   "metadata": {},
   "source": [
    "### Assignment 8: Recursive Function\n",
    "\n",
    "Define a recursive function that calculates the factorial of a given number. Test the function with different inputs."
   ]
  },
  {
   "cell_type": "code",
   "execution_count": null,
   "id": "cabd1436",
   "metadata": {},
   "outputs": [
    {
     "data": {
      "text/plain": [
       "6"
      ]
     },
     "execution_count": 1,
     "metadata": {},
     "output_type": "execute_result"
    }
   ],
   "source": [
    "def factorial(n):\n",
    "    if n == 0 or n == 1:\n",
    "        return 1\n",
    "    else:\n",
    "        return n * factorial(n - 1)\n",
    "\n",
    "number = int(input(\"Enter a number\"))\n",
    "factorial(number)"
   ]
  },
  {
   "cell_type": "markdown",
   "id": "d5720d09",
   "metadata": {},
   "source": [
    "### Assignment 9: Lambda Function\n",
    "\n",
    "Define a lambda function that takes two integers as input and returns their sum. Test the lambda function with different inputs."
   ]
  },
  {
   "cell_type": "code",
   "execution_count": null,
   "id": "1bdbddac",
   "metadata": {},
   "outputs": [
    {
     "name": "stdout",
     "output_type": "stream",
     "text": [
      "The sum of 5 and 10 is: 15\n"
     ]
    }
   ],
   "source": [
    "sum = lambda x, y: x + y\n",
    "print(f\"The sum of 5 and 10 is: {sum(5, 10)}\")\n"
   ]
  },
  {
   "cell_type": "markdown",
   "id": "5a050d01",
   "metadata": {},
   "source": [
    "### Assignment 10: Map Function\n",
    "\n",
    "Use the map function to apply a lambda function that squares each number in a list of integers. Test with different lists."
   ]
  },
  {
   "cell_type": "code",
   "execution_count": null,
   "id": "64c8d75d",
   "metadata": {},
   "outputs": [
    {
     "name": "stdout",
     "output_type": "stream",
     "text": [
      "The list of numbers is: [1, 2, 3, 4, 5]\n",
      "The squared list is: [1, 4, 9, 16, 25]\n"
     ]
    }
   ],
   "source": [
    "list_of_numbers = [number for number in range(1, 6)]\n",
    "print(f\"The list of numbers is: {list_of_numbers}\")\n",
    "\n",
    "squared_list = map(lambda x: x **2, list_of_numbers)\n",
    "print(f\"The squared list is: {list(squared_list)}\")\n"
   ]
  },
  {
   "cell_type": "markdown",
   "id": "bd5a9df8",
   "metadata": {},
   "source": [
    "### Assignment 11: Filter Function\n",
    "\n",
    "Use the filter function to filter out all odd numbers from a list of integers. Test with different lists."
   ]
  },
  {
   "cell_type": "code",
   "execution_count": 2,
   "id": "6da8c878",
   "metadata": {},
   "outputs": [
    {
     "name": "stdout",
     "output_type": "stream",
     "text": [
      "The list of numbers is: [1, 2, 3, 4, 5, 6, 7, 8, 9]\n",
      "The even numbers in the list are: [2, 4, 6, 8]\n",
      "The odd numbers in the list are: [1, 3, 5, 7, 9]\n"
     ]
    }
   ],
   "source": [
    "list_of_numbers = [number for number in range(1, 10)]\n",
    "print(f\"The list of numbers is: {list_of_numbers}\")\n",
    "\n",
    "even_numbers = filter(lambda x: x % 2 == 0, list_of_numbers)\n",
    "print(f\"The even numbers in the list are: {list(even_numbers)}\")\n",
    "\n",
    "odd_numbers = filter(lambda x: x % 2 != 0, list_of_numbers)\n",
    "print(f\"The odd numbers in the list are: {list(odd_numbers)}\")  "
   ]
  },
  {
   "cell_type": "markdown",
   "id": "60754dd5",
   "metadata": {},
   "source": [
    "### Assignment 12: Function Decorator\n",
    "\n",
    "Define a decorator function that prints 'Executing function...' before executing a function and 'Function executed.' after executing it. Apply this decorator to a function that takes a list of integers and returns their sum. Test the decorated function with different lists"
   ]
  },
  {
   "cell_type": "code",
   "execution_count": 5,
   "id": "9615927e",
   "metadata": {},
   "outputs": [
    {
     "name": "stdout",
     "output_type": "stream",
     "text": [
      "Executing function...\n",
      "Function executed.\n",
      "15\n"
     ]
    }
   ],
   "source": [
    "def my_decorator(func):\n",
    "    def wrapper(*args, **kwargs):\n",
    "        print('Executing function...')\n",
    "        result = func(*args, **kwargs)\n",
    "        print('Function executed.')\n",
    "        return result\n",
    "    return wrapper\n",
    "\n",
    "@my_decorator\n",
    "def sum_list(lst):\n",
    "    return sum(lst)\n",
    "\n",
    "# Test\n",
    "print(sum_list([1, 2, 3, 4, 5]))  # 15"
   ]
  },
  {
   "cell_type": "code",
   "execution_count": 4,
   "id": "021d4704",
   "metadata": {},
   "outputs": [],
   "source": [
    "@my_decorator\n",
    "def sum_list(lst):\n",
    "    return sum(lst)\n",
    "\n",
    "# same as\n",
    "\n",
    "def sum_list(lst):\n",
    "    return sum(lst)\n",
    "\n",
    "sum_list = my_decorator(sum_list)"
   ]
  },
  {
   "cell_type": "markdown",
   "id": "a03ff80b",
   "metadata": {},
   "source": [
    "### Assignment 13: Function with *args and **kwargs\n",
    "\n",
    "Define a function that takes variable-length arguments and keyword arguments and prints them. Test the function with different inputs."
   ]
  },
  {
   "cell_type": "code",
   "execution_count": 6,
   "id": "e9e94e1a",
   "metadata": {},
   "outputs": [
    {
     "name": "stdout",
     "output_type": "stream",
     "text": [
      "1 2 3 Hello World\n",
      "Error: print_args() got an unexpected keyword argument 'name'\n"
     ]
    }
   ],
   "source": [
    "def print_args(*args):\n",
    "    \"\"\"Function to print all positional arguments.\"\"\"\n",
    "    for arg in args:\n",
    "        print(arg)\n",
    "\n",
    "print(1, 2, 3, \"Hello\", \"World\")\n",
    "try:\n",
    "    print_args(1, 2, 3, name=\"Hello\")\n",
    "except TypeError as e:\n",
    "    print(f\"Error: {e}\")"
   ]
  },
  {
   "cell_type": "code",
   "execution_count": 26,
   "id": "e3c681dd",
   "metadata": {},
   "outputs": [
    {
     "name": "stdout",
     "output_type": "stream",
     "text": [
      "name: Mohankumar\n",
      "age: 30\n",
      "country: India\n",
      "Error: print_details() takes 0 positional arguments but 3 were given\n"
     ]
    }
   ],
   "source": [
    "def print_details(**kwargs):\n",
    "    \"\"\"Function to print all keyword arguments.\"\"\"\n",
    "    for key, value in kwargs.items():\n",
    "        print(f\"{key}: {value}\")\n",
    "\n",
    "print_details(name=\"Mohankumar\", age=30, country=\"India\")\n",
    "\n",
    "try:\n",
    "    print_details(1, 2, 3, name=\"Hello\")\n",
    "except TypeError as e:\n",
    "    print(f\"Error: {e}\")"
   ]
  },
  {
   "cell_type": "code",
   "execution_count": 30,
   "id": "c151065b",
   "metadata": {},
   "outputs": [
    {
     "name": "stdout",
     "output_type": "stream",
     "text": [
      "This is start of printing function.\n",
      "1\n",
      "2\n",
      "3\n",
      "name: mohankumar\n",
      "age: 32\n",
      "country: India\n",
      "This is end of printing function.\n"
     ]
    }
   ],
   "source": [
    "def printing_function(*args, **kwargs):\n",
    "    # Function to print all positional and keyword arguments\n",
    "    print(\"This is start of printing function.\")\n",
    "\n",
    "    # Print all positional arguments\n",
    "    for arg in args:\n",
    "        print(arg)\n",
    "    \n",
    "    # Print all keyword arguments\n",
    "    for key, value in kwargs.items():\n",
    "        print(f\"{key}: {value}\")\n",
    "    \n",
    "    print(\"This is end of printing function.\")\n",
    "\n",
    "printing_function(1, 2, 3, name=\"mohankumar\", age=32, country=\"India\")"
   ]
  },
  {
   "cell_type": "markdown",
   "id": "2b7f06d3",
   "metadata": {},
   "source": [
    "### Assignment 14: Higher-Order Function\n",
    "\n",
    "Define a higher-order function that takes a function and a list of integers as arguments, and applies the function to each integer in the list. Test with different functions and lists."
   ]
  },
  {
   "cell_type": "code",
   "execution_count": 11,
   "id": "afae3a8e",
   "metadata": {},
   "outputs": [
    {
     "name": "stdout",
     "output_type": "stream",
     "text": [
      "The original numbers are: [1, 2, 3, 4, 5]\n",
      "The squared numbers are: [1, 4, 9, 16, 25]\n"
     ]
    }
   ],
   "source": [
    "def apply_for_each(function, list_of_numbers):\n",
    "    \"\"\"Function to call another function with given arguments.\"\"\"\n",
    "    return [function(number) for number in list_of_numbers]\n",
    "\n",
    "def square(num):\n",
    "    return num * num\n",
    "\n",
    "list_of_numbers = [1, 2, 3, 4, 5]\n",
    "squared_numbers = apply_for_each(square, list_of_numbers)\n",
    "print(f\"The original numbers are: {list_of_numbers}\")\n",
    "print(f\"The squared numbers are: {squared_numbers}\")"
   ]
  },
  {
   "cell_type": "markdown",
   "metadata": {},
   "source": [
    "### Assignment 15: Function Documentation\n",
    "\n",
    "Define a function with a docstring that explains what the function does, its parameters, and its return value. Print the function's docstring."
   ]
  },
  {
   "cell_type": "code",
   "execution_count": 13,
   "id": "54aca4f3",
   "metadata": {},
   "outputs": [
    {
     "name": "stdout",
     "output_type": "stream",
     "text": [
      "Function to calculate the factorial of a number.\n",
      " takes a number n as input and returns n!.\n",
      "The factorial of 5 is: 120\n"
     ]
    }
   ],
   "source": [
    "def factorial(n):\n",
    "    \"\"\"Function to calculate the factorial of a number.\\n takes a number n as input and returns n!.\"\"\"\n",
    "    if n == 0 or n == 1:\n",
    "        return 1\n",
    "    else:\n",
    "        return n * factorial(n - 1)\n",
    "\n",
    "# print documentation of function\n",
    "print(factorial.__doc__)\n",
    "print(f\"The factorial of 5 is: {factorial(5)}\")"
   ]
  }
 ],
 "metadata": {
  "kernelspec": {
   "display_name": "Python 3",
   "language": "python",
   "name": "python3"
  },
  "language_info": {
   "codemirror_mode": {
    "name": "ipython",
    "version": 3
   },
   "file_extension": ".py",
   "mimetype": "text/x-python",
   "name": "python",
   "nbconvert_exporter": "python",
   "pygments_lexer": "ipython3",
   "version": "3.12.0"
  }
 },
 "nbformat": 4,
 "nbformat_minor": 5
}
