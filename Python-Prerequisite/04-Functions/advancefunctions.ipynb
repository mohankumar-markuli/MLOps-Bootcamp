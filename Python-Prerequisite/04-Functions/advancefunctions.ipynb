{
 "cells": [
  {
   "cell_type": "markdown",
   "id": "f7249d4f",
   "metadata": {},
   "source": [
    "# Module 4: Advanced Functions Assignments\n",
    "## Lesson 4.1: Defining Functions\n",
    "### Assignment 1: Fibonacci Sequence with Memoization\n",
    "\n",
    "Define a recursive function to calculate the nth Fibonacci number using memoization. Test the function with different inputs."
   ]
  },
  {
   "cell_type": "code",
   "execution_count": 1,
   "id": "d83041ba",
   "metadata": {},
   "outputs": [
    {
     "name": "stdout",
     "output_type": "stream",
     "text": [
      "Function to calculate the nth Fibonacci number.\n",
      "The 10th Fibonacci number is: 34\n"
     ]
    }
   ],
   "source": [
    "def fibonocci(n):\n",
    "    \"\"\"Function to calculate the nth Fibonacci number.\"\"\"\n",
    "    if n <= 0:\n",
    "        return \"Input should be a positive integer.\"\n",
    "    elif n == 1:\n",
    "        return 0\n",
    "    elif n == 2:\n",
    "        return 1\n",
    "    else:\n",
    "        a, b = 0, 1\n",
    "        for _ in range(2, n):\n",
    "            a, b = b, a + b\n",
    "        return b\n",
    "    \n",
    "# Print the documentation of the function\n",
    "print(fibonocci.__doc__)\n",
    "print(f\"The 10th Fibonacci number is: {fibonocci(10)}\")"
   ]
  },
  {
   "cell_type": "code",
   "execution_count": 3,
   "id": "49ca9b60",
   "metadata": {},
   "outputs": [
    {
     "name": "stdout",
     "output_type": "stream",
     "text": [
      "Function to calculate the nth Fibonacci number using recursion.\n",
      "The 10th Fibonacci number using recursion is: 34\n"
     ]
    }
   ],
   "source": [
    "# fibonocci using recurssive\n",
    "\n",
    "def fibonocci_recursive(n):\n",
    "    \"\"\"Function to calculate the nth Fibonacci number using recursion.\"\"\"\n",
    "    if n <= 0:\n",
    "        return \"Input should be a positive integer.\"\n",
    "    elif n == 1:\n",
    "        return 0\n",
    "    elif n == 2:\n",
    "        return 1\n",
    "    else:\n",
    "        return fibonocci_recursive(n - 1) + fibonocci_recursive(n - 2) \n",
    "# Print the documentation of the recursive function\n",
    "print(fibonocci_recursive.__doc__)\n",
    "print(f\"The 10th Fibonacci number using recursion is: {fibonocci_recursive(10)}\")"
   ]
  },
  {
   "cell_type": "markdown",
   "id": "8c6efc2a",
   "metadata": {},
   "source": [
    "### Assignment 2: Function with Nested Default Arguments\n",
    "\n",
    "Define a function that takes two arguments, a and b, where b is a dictionary with a default value of an empty dictionary. The function should add a new key-value pair to the dictionary and return it. Test the function with different inputs."
   ]
  },
  {
   "cell_type": "code",
   "execution_count": null,
   "id": "23f17d16",
   "metadata": {},
   "outputs": [
    {
     "name": "stdout",
     "output_type": "stream",
     "text": [
      "<function child_function1 at 0x00000235926E1300>\n"
     ]
    }
   ],
   "source": [
    "# def parent_function(child_function):\n",
    "#     return child_function\n",
    "\n",
    "# def child_function1(a,b={}):\n",
    "#     b = {\"name\": \"mohankumar\", \"age\": 32, \"country\": \"India\"}\n",
    "#     return\n",
    "\n",
    "# print(parent_function(child_function1))"
   ]
  },
  {
   "cell_type": "markdown",
   "id": "a913cd07",
   "metadata": {},
   "source": [
    "### Assignment 3: Function with Variable Keyword Arguments\n",
    "\n",
    "Define a function that takes a variable number of keyword arguments and returns a dictionary containing only those key-value pairs where the value is an integer. Test the function with different inputs."
   ]
  },
  {
   "cell_type": "code",
   "execution_count": null,
   "id": "c397a6c0",
   "metadata": {},
   "outputs": [
    {
     "name": "stdout",
     "output_type": "stream",
     "text": [
      "name: mohankumar\n",
      "age: 32\n",
      "country: India\n",
      "height: 5.8\n",
      "weight: 70\n",
      "\n",
      "\n",
      "Filtered dictionary with only integer values: {'age': 32, 'weight': 70}\n"
     ]
    }
   ],
   "source": [
    "def function_with_varargs(**kwargs):\n",
    "    \"\"\"Function to demonstrate the use of **kwargs.\"\"\"\n",
    "    new_dict = {}\n",
    "    for key, value in kwargs.items():\n",
    "        print(f\"{key}: {value}\")\n",
    "        if isinstance(value, int):\n",
    "            new_dict[key] = value\n",
    "    print(\"\\n\")\n",
    "    return new_dict\n",
    "\n",
    "# Example usage of the function with varargs\n",
    "result_dict = function_with_varargs(name=\"mohankumar\", age=32, country=\"India\", height=5.8, weight=70)\n",
    "print(\"Filtered dictionary with only integer values:\", result_dict)"
   ]
  },
  {
   "cell_type": "markdown",
   "id": "317f0416",
   "metadata": {},
   "source": [
    "### Assignment 4: Function with Callback\n",
    "\n",
    "Define a function that takes another function as a callback and a list of integers. The function should apply the callback to each integer in the list and return a new list with the results. Test with different callback functions."
   ]
  },
  {
   "cell_type": "code",
   "execution_count": null,
   "id": "ba10dfad",
   "metadata": {},
   "outputs": [],
   "source": []
  },
  {
   "cell_type": "markdown",
   "id": "641af7d6",
   "metadata": {},
   "source": [
    "### Assignment 5: Function that Returns a Function\n",
    "\n",
    "Define a function that returns another function. The returned function should take an integer and return its square. Test the returned function with different inputs."
   ]
  },
  {
   "cell_type": "code",
   "execution_count": 22,
   "id": "e494638d",
   "metadata": {},
   "outputs": [
    {
     "name": "stdout",
     "output_type": "stream",
     "text": [
      "The square of 5 is: 25\n"
     ]
    }
   ],
   "source": [
    "def returning_function(function,n):\n",
    "    \"\"\"Function to return a function\"\"\"\n",
    "    return function(n)\n",
    "\n",
    "def square(n):\n",
    "    \"\"\"Function to calculate the square of a number.\"\"\"\n",
    "    return n * n\n",
    "\n",
    "print(f\"The square of 5 is: {returning_function(square, 5)}\")"
   ]
  },
  {
   "cell_type": "markdown",
   "id": "2cc46b89",
   "metadata": {},
   "source": [
    "### Assignment 6: Function with Decorators\n",
    "\n",
    "Define a function that calculates the time taken to execute another function. Apply this decorator to a function that performs a complex calculation. Test the decorated function with different inputs."
   ]
  },
  {
   "cell_type": "code",
   "execution_count": null,
   "id": "950e956f",
   "metadata": {},
   "outputs": [],
   "source": []
  },
  {
   "cell_type": "markdown",
   "id": "3dcba170",
   "metadata": {},
   "source": [
    "### Assignment 7: Higher-Order Function for Filtering and Mapping\n",
    "\n",
    "Define a higher-order function that takes two functions, a filter function and a map function, along with a list of integers. The higher-order function should first filter the integers using the filter function and then apply the map function to the filtered integers. Test with different filter and map functions."
   ]
  },
  {
   "cell_type": "code",
   "execution_count": 28,
   "id": "cac25150",
   "metadata": {},
   "outputs": [
    {
     "name": "stdout",
     "output_type": "stream",
     "text": [
      "The result of applying the functions to the list of numbers is: [12, 18, 24, 30, 36]\n"
     ]
    }
   ],
   "source": [
    "list_of_numbers = [n for n in range(1, 11)]\n",
    "def higher_order_function(function1,function2):\n",
    "    \"\"\"Function to apply two functions to a list of numbers.\"\"\"\n",
    "    mapping_function = map(lambda x: function2(function1(x)),\n",
    "                           filter(lambda x: x % 2 == 0, list_of_numbers))\n",
    "    return list(mapping_function)\n",
    "\n",
    "function1 = lambda x: x + 2\n",
    "function2 = lambda x: x * 3\n",
    "\n",
    "print(f\"The result of applying the functions to the list of numbers is: {higher_order_function(function1, function2)}\") "
   ]
  },
  {
   "cell_type": "markdown",
   "id": "e9a0f030",
   "metadata": {},
   "source": [
    "### Assignment 8: Function Composition\n",
    "\n",
    "Define a function that composes two functions, f and g, such that the result is f(g(x)). Test with different functions f and g."
   ]
  },
  {
   "cell_type": "code",
   "execution_count": 33,
   "id": "2a28ebc7",
   "metadata": {},
   "outputs": [
    {
     "name": "stdout",
     "output_type": "stream",
     "text": [
      "The result of the composed function is: 10\n"
     ]
    }
   ],
   "source": [
    "# composit function f(g(x))\n",
    "\n",
    "def compose_functions(f, g):\n",
    "    \"\"\"Function to compose two functions.\"\"\"\n",
    "    return lambda x: f(g(x))\n",
    "\n",
    "function1 = lambda x: x + 2\n",
    "function2 = lambda x: x + 3\n",
    "\n",
    "composed_function = compose_functions(function1, function2)\n",
    "print(f\"The result of the composed function is: {composed_function(5)}\")"
   ]
  },
  {
   "cell_type": "markdown",
   "id": "3e81f235",
   "metadata": {},
   "source": [
    "### Assignment 9: Partial Function Application\n",
    "\n",
    "Use the functools.partial function to create a new function that multiplies its input by 2. Test the new function with different inputs."
   ]
  },
  {
   "cell_type": "code",
   "execution_count": null,
   "id": "03d5cac0",
   "metadata": {},
   "outputs": [],
   "source": []
  },
  {
   "cell_type": "markdown",
   "id": "75b63ce5",
   "metadata": {},
   "source": [
    "### Assignment 10: Function with Error Handling\n",
    "\n",
    "Define a function that takes a list of integers and returns their average. The function should handle any errors that occur (e.g., empty list) and return None in such cases. Test with different inputs."
   ]
  },
  {
   "cell_type": "code",
   "execution_count": null,
   "id": "bb190e35",
   "metadata": {},
   "outputs": [],
   "source": []
  },
  {
   "cell_type": "markdown",
   "id": "7efe9a39",
   "metadata": {},
   "source": [
    "### Assignment 11: Function with Generators\n",
    "\n",
    "Define a function that generates an infinite sequence of Fibonacci numbers. Test by printing the first 10 numbers in the sequence."
   ]
  },
  {
   "cell_type": "code",
   "execution_count": null,
   "id": "49f49f41",
   "metadata": {},
   "outputs": [],
   "source": []
  },
  {
   "cell_type": "markdown",
   "id": "44500f7d",
   "metadata": {},
   "source": [
    "### Assignment 12: Currying\n",
    "\n",
    "Define a curried function that takes three arguments, one at a time, and returns their product. Test the function by providing arguments one at a time."
   ]
  },
  {
   "cell_type": "code",
   "execution_count": null,
   "id": "4d6ad0eb",
   "metadata": {},
   "outputs": [],
   "source": []
  },
  {
   "cell_type": "markdown",
   "id": "49a6ee8d",
   "metadata": {},
   "source": [
    "### Assignment 13: Function with Context Manager\n",
    "\n",
    "Define a function that uses a context manager to write a list of integers to a file. The function should handle any errors that occur during file operations. Test with different lists."
   ]
  },
  {
   "cell_type": "code",
   "execution_count": null,
   "id": "fb31330b",
   "metadata": {},
   "outputs": [],
   "source": []
  },
  {
   "cell_type": "markdown",
   "id": "3863eb55",
   "metadata": {},
   "source": [
    "### Assignment 14: Function with Multiple Return Types\n",
    "\n",
    "Define a function that takes a list of mixed data types (integers, strings, and floats) and returns three lists: one containing all the integers, one containing all the strings, and one containing all the floats. Test with different inputs."
   ]
  },
  {
   "cell_type": "code",
   "execution_count": null,
   "id": "b8296bd1",
   "metadata": {},
   "outputs": [],
   "source": []
  },
  {
   "cell_type": "markdown",
   "metadata": {},
   "source": [
    "### Assignment 15: Function with State\n",
    "\n",
    "Define a function that maintains state between calls using a mutable default argument. The function should keep track of how many times it has been called. Test by calling the function multiple times."
   ]
  },
  {
   "cell_type": "code",
   "execution_count": null,
   "metadata": {},
   "outputs": [],
   "source": []
  }
 ],
 "metadata": {
  "kernelspec": {
   "display_name": "Python 3",
   "language": "python",
   "name": "python3"
  },
  "language_info": {
   "codemirror_mode": {
    "name": "ipython",
    "version": 3
   },
   "file_extension": ".py",
   "mimetype": "text/x-python",
   "name": "python",
   "nbconvert_exporter": "python",
   "pygments_lexer": "ipython3",
   "version": "3.12.0"
  }
 },
 "nbformat": 4,
 "nbformat_minor": 5
}
