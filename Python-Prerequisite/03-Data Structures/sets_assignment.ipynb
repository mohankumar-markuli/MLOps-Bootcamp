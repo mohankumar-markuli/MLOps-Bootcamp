{
 "cells": [
  {
   "cell_type": "markdown",
   "id": "cb6a6cbe",
   "metadata": {},
   "source": [
    "# Module 3: Data Structures Assignments\n",
    "## Lesson 3.3: Sets\n",
    "### Assignment 1: Creating and Accessing Sets\n",
    "\n",
    "Create a set with the first 10 positive integers. Print the set."
   ]
  },
  {
   "cell_type": "code",
   "execution_count": 2,
   "id": "9de46c27",
   "metadata": {},
   "outputs": [
    {
     "name": "stdout",
     "output_type": "stream",
     "text": [
      "Set of integers: {1, 2, 3, 4, 5, 6, 7, 8, 9, 10}\n"
     ]
    }
   ],
   "source": [
    "integer_set = set([n for n in range(1, 11)])\n",
    "print(\"Set of integers:\", integer_set)"
   ]
  },
  {
   "cell_type": "markdown",
   "id": "5d6cc38e",
   "metadata": {},
   "source": [
    "### Assignment 2: Adding and Removing Elements\n",
    "\n",
    "Add the number 11 to the set created in Assignment 1. Then remove the number 1 from the set. Print the modified set."
   ]
  },
  {
   "cell_type": "code",
   "execution_count": 4,
   "id": "627cc0d7",
   "metadata": {},
   "outputs": [
    {
     "name": "stdout",
     "output_type": "stream",
     "text": [
      "Set after adding 11: {1, 2, 3, 4, 5, 6, 7, 8, 9, 10, 11}\n",
      "Set after removing 1: {2, 3, 4, 5, 6, 7, 8, 9, 10, 11}\n"
     ]
    }
   ],
   "source": [
    "integer_set.add(11)\n",
    "print(\"Set after adding 11:\", integer_set)\n",
    "\n",
    "integer_set.remove(1)\n",
    "print(\"Set after removing 1:\", integer_set)"
   ]
  },
  {
   "cell_type": "markdown",
   "id": "5f0d65d3",
   "metadata": {},
   "source": [
    "### Assignment 3: Set Operations\n",
    "\n",
    "Create two sets: one with the first 5 positive integers and another with the first 5 even integers. Perform and print the results of union, intersection, difference, and symmetric difference operations on these sets."
   ]
  },
  {
   "cell_type": "code",
   "execution_count": 6,
   "id": "a00299c1",
   "metadata": {},
   "outputs": [
    {
     "name": "stdout",
     "output_type": "stream",
     "text": [
      "Set 1: {1, 2, 3, 4, 5}\n",
      "Set 2: {2, 4, 6, 8, 10, 12, 14}\n",
      "Intersection of Set 1 and Set 2: {2, 4}\n",
      "Difference of Set 1 and Set 2: {1, 3, 5}\n",
      "Union of Set 1 and Set 2: {1, 2, 3, 4, 5, 6, 8, 10, 12, 14}\n",
      "Symmetric Difference of Set 1 and Set 2: {1, 3, 5, 6, 8, 10, 12, 14}\n"
     ]
    }
   ],
   "source": [
    "set1 = {n for n in range(1, 6)}\n",
    "set2 = {n for n in range(1, 15) if n % 2 == 0}\n",
    "\n",
    "print(\"Set 1:\", set1)\n",
    "print(\"Set 2:\", set2)\n",
    "\n",
    "set_intersection = set1 & set2\n",
    "print(\"Intersection of Set 1 and Set 2:\", set_intersection)\n",
    "\n",
    "set_difference = set1 - set2\n",
    "print(\"Difference of Set 1 and Set 2:\", set_difference)\n",
    "\n",
    "set_union = set1 | set2\n",
    "print(\"Union of Set 1 and Set 2:\", set_union)\n",
    "\n",
    "set_symmetric_difference = set1 ^ set2\n",
    "print(\"Symmetric Difference of Set 1 and Set 2:\", set_symmetric_difference)\n",
    "\n"
   ]
  },
  {
   "cell_type": "markdown",
   "id": "50f3db6d",
   "metadata": {},
   "source": [
    "### Assignment 4: Set Comprehensions\n",
    "\n",
    "Create a new set containing the squares of the first 10 positive integers using a set comprehension. Print the new set."
   ]
  },
  {
   "cell_type": "code",
   "execution_count": 22,
   "id": "c5a867cf",
   "metadata": {},
   "outputs": [
    {
     "name": "stdout",
     "output_type": "stream",
     "text": [
      "Set of squares of first 10 integers: {64, 1, 4, 36, 100, 9, 16, 49, 81, 25}\n",
      "sorted set of squares: [1, 4, 9, 16, 25, 36, 49, 64, 81, 100]\n"
     ]
    }
   ],
   "source": [
    "squered_set = set([n**2 for n in range(1, 11)])\n",
    "print(\"Set of squares of first 10 integers:\", squered_set)\n",
    "\n",
    "# set is a unoerdered collection of unique elements\n",
    "\n",
    "print(\"sorted set of squares:\", sorted(squered_set))"
   ]
  },
  {
   "cell_type": "markdown",
   "id": "985874c3",
   "metadata": {},
   "source": [
    "### Assignment 5: Filtering Sets\n",
    "\n",
    "Create a new set containing only the even numbers from the set created in Assignment 1 using a set comprehension. Print the new set."
   ]
  },
  {
   "cell_type": "code",
   "execution_count": 27,
   "id": "8383597c",
   "metadata": {},
   "outputs": [
    {
     "name": "stdout",
     "output_type": "stream",
     "text": [
      "{1, 2, 3, 4, 5, 6, 7, 8, 9, 10, 11}\n",
      "Set after adding 1: {1, 2, 3, 4, 5, 6, 7, 8, 9, 10, 11}\n",
      "Set of even integers: {2, 4, 6, 8, 10}\n"
     ]
    }
   ],
   "source": [
    "print(integer_set)\n",
    "integer_set.add(1)\n",
    "\n",
    "print(\"Set after adding 1:\", integer_set)\n",
    "\n",
    "even_set = {n for n in integer_set if n % 2 == 0}\n",
    "print(\"Set of even integers:\", even_set)"
   ]
  },
  {
   "cell_type": "markdown",
   "id": "d4c929c7",
   "metadata": {},
   "source": [
    "### Assignment 6: Set Methods\n",
    "\n",
    "Create a set with duplicate elements and remove the duplicates using set methods. Print the modified set."
   ]
  },
  {
   "cell_type": "code",
   "execution_count": 29,
   "id": "4ad00d45",
   "metadata": {},
   "outputs": [
    {
     "name": "stdout",
     "output_type": "stream",
     "text": [
      "Unique numbers from the list: {1, 2, 3, 4, 5, 6, 7, 8, 9, 10}\n"
     ]
    }
   ],
   "source": [
    "list_of_numbers = [1, 2, 3, 4, 5, 6, 7, 8, 9, 10,1, 4, 6, 7, 8, 9, 10]\n",
    "unique_numbers = set(list_of_numbers)\n",
    "print(\"Unique numbers from the list:\", unique_numbers)"
   ]
  },
  {
   "cell_type": "markdown",
   "id": "d6bfccce",
   "metadata": {},
   "source": [
    "### Assignment 7: Subsets and Supersets\n",
    "\n",
    "Create two sets: one with the first 5 positive integers and another with the first 3 positive integers. Check if the second set is a subset of the first set and if the first set is a superset of the second set. Print the results."
   ]
  },
  {
   "cell_type": "code",
   "execution_count": 33,
   "id": "976663d4",
   "metadata": {},
   "outputs": [
    {
     "name": "stdout",
     "output_type": "stream",
     "text": [
      "Is Set 1 a superset of Set 2? True\n",
      "Is Set 2 a subset of Set 1? True\n"
     ]
    }
   ],
   "source": [
    "set1 = {n for n in range(1, 6)}\n",
    "set2 = {n for n in range(1, 4)}\n",
    "\n",
    "is_superset = set1.issuperset(set2)\n",
    "print(\"Is Set 1 a superset of Set 2?\", is_superset)\n",
    "\n",
    "is_subset = set2.issubset(set1)\n",
    "print(\"Is Set 2 a subset of Set 1?\", is_subset)\n"
   ]
  },
  {
   "cell_type": "markdown",
   "id": "cb95c7f7",
   "metadata": {},
   "source": [
    "### Assignment 8: Frozenset\n",
    "\n",
    "Create a frozenset with the first 5 positive integers. Print the frozenset."
   ]
  },
  {
   "cell_type": "code",
   "execution_count": null,
   "id": "7eac6d13",
   "metadata": {},
   "outputs": [
    {
     "name": "stdout",
     "output_type": "stream",
     "text": [
      "Frozenset example: frozenset({1, 2, 3, 4, 5})\n",
      "Error: 'frozenset' object has no attribute 'add'\n"
     ]
    }
   ],
   "source": [
    "frozenset_example = frozenset([1, 2, 3, 4, 5])\n",
    "print(\"Frozenset example:\", frozenset_example)\n",
    "\n",
    "# This will raise an AttributeError since frozensets are immutable\n",
    "try:\n",
    "    frozenset_example.add(6)\n",
    "except AttributeError as e:\n",
    "    print(\"Error:\", e)"
   ]
  },
  {
   "cell_type": "markdown",
   "id": "227ee866",
   "metadata": {},
   "source": [
    "### Assignment 9: Set and List Conversion\n",
    "\n",
    "Create a set with the first 5 positive integers. Convert it to a list, append the number 6, and convert it back to a set. Print the resulting set."
   ]
  },
  {
   "cell_type": "code",
   "execution_count": 37,
   "id": "a03c6dfb",
   "metadata": {},
   "outputs": [
    {
     "name": "stdout",
     "output_type": "stream",
     "text": [
      "Set of integers: {1, 2, 3, 4, 5}\n",
      "List converted from set: [1, 2, 3, 4, 5]\n",
      "List after appending 6: [1, 2, 3, 4, 5, 6]\n",
      "Set converted from list: {1, 2, 3, 4, 5, 6}\n"
     ]
    }
   ],
   "source": [
    "set_of_integers = set([n for n in range(1, 6)])\n",
    "print(\"Set of integers:\", set_of_integers)\n",
    "\n",
    "set_converted_list = list(set_of_integers)\n",
    "print(\"List converted from set:\", set_converted_list)\n",
    "\n",
    "set_converted_list.append(6)\n",
    "print(\"List after appending 6:\", set_converted_list)\n",
    "\n",
    "list_converted_set = set(set_converted_list)\n",
    "print(\"Set converted from list:\", list_converted_set)"
   ]
  },
  {
   "cell_type": "markdown",
   "id": "df94279c",
   "metadata": {},
   "source": [
    "### Assignment 10: Set and Dictionary\n",
    "\n",
    "Create a dictionary with set keys and integer values. Print the dictionary."
   ]
  },
  {
   "cell_type": "code",
   "execution_count": 38,
   "id": "b15faddf",
   "metadata": {},
   "outputs": [
    {
     "name": "stdout",
     "output_type": "stream",
     "text": [
      "Set from dictionary keys: {'a', 'c', 'b'}\n",
      "Set from dictionary values: {1, 2, 3}\n",
      "Set from dictionary items: {('b', 2), ('a', 1), ('c', 3)}\n"
     ]
    }
   ],
   "source": [
    "dictionary_example = {'a': 1, 'b': 2, 'c': 3}\n",
    "set_from_dict_keys = set(dictionary_example.keys())\n",
    "print(\"Set from dictionary keys:\", set_from_dict_keys)\n",
    "\n",
    "set_from_dict_values = set(dictionary_example.values())\n",
    "print(\"Set from dictionary values:\", set_from_dict_values)\n",
    "\n",
    "set_from_dict_items = set(dictionary_example.items())\n",
    "print(\"Set from dictionary items:\", set_from_dict_items)"
   ]
  },
  {
   "cell_type": "markdown",
   "id": "84cc72be",
   "metadata": {},
   "source": [
    "### Assignment 11: Iterating Over Sets\n",
    "\n",
    "Create a set and iterate over the elements, printing each element."
   ]
  },
  {
   "cell_type": "code",
   "execution_count": 39,
   "id": "8d0f7618",
   "metadata": {},
   "outputs": [
    {
     "name": "stdout",
     "output_type": "stream",
     "text": [
      "Set of integers: {1, 2, 3, 4, 5, 6, 7, 8, 9, 10}\n",
      "1 2 3 4 5 6 7 8 9 10 \n",
      "Iterating through the set of integers completed.\n"
     ]
    }
   ],
   "source": [
    "set_of_integers = set([n for n in range(1, 11)])\n",
    "print(\"Set of integers:\", set_of_integers)\n",
    "\n",
    "for n in set_of_integers:\n",
    "    print(n, end=' ')\n",
    "\n",
    "print(\"\\nIterating through the set of integers completed.\")"
   ]
  },
  {
   "cell_type": "markdown",
   "id": "e53c1568",
   "metadata": {},
   "source": [
    "### Assignment 12: Removing Elements from Sets\n",
    "\n",
    "Create a set and remove elements from it until it is empty. Print the set after each removal."
   ]
  },
  {
   "cell_type": "code",
   "execution_count": 41,
   "id": "3aff5428",
   "metadata": {},
   "outputs": [
    {
     "name": "stdout",
     "output_type": "stream",
     "text": [
      "Set of integers: {1, 2, 3, 4, 5, 6, 7, 8, 9, 10}\n",
      "1 Set of integers: {2, 3, 4, 5, 6, 7, 8, 9, 10}\n",
      "2 Set of integers: {3, 4, 5, 6, 7, 8, 9, 10}\n",
      "3 Set of integers: {4, 5, 6, 7, 8, 9, 10}\n",
      "4 Set of integers: {5, 6, 7, 8, 9, 10}\n",
      "5 Set of integers: {6, 7, 8, 9, 10}\n",
      "6 Set of integers: {7, 8, 9, 10}\n",
      "7 Set of integers: {8, 9, 10}\n",
      "8 Set of integers: {9, 10}\n",
      "9 Set of integers: {10}\n",
      "10 Set of integers: set()\n",
      "Set afeter removing all elements: set()\n",
      "All elements have been removed from the set.\n"
     ]
    }
   ],
   "source": [
    "set_of_integers = set([n for n in range(1, 11)])\n",
    "print(\"Set of integers:\", set_of_integers)\n",
    "\n",
    "for n in range(1, 11):\n",
    "    print(n, end=' ')\n",
    "    set_of_integers.remove(n)\n",
    "    print(\"Set of integers:\", set_of_integers)\n",
    "\n",
    "print(\"Set afeter removing all elements:\", set_of_integers)\n",
    "print(\"All elements have been removed from the set.\")"
   ]
  },
  {
   "cell_type": "markdown",
   "id": "2d871b51",
   "metadata": {},
   "source": [
    "### Assignment 13: Set Symmetric Difference Update\n",
    "\n",
    "Create two sets and update the first set with the symmetric difference of the two sets. Print the modified first set."
   ]
  },
  {
   "cell_type": "code",
   "execution_count": 45,
   "id": "8391a73d",
   "metadata": {},
   "outputs": [
    {
     "name": "stdout",
     "output_type": "stream",
     "text": [
      "Set 1: {1, 2, 3, 4, 5}\n",
      "Set 2: {2, 4, 6, 8, 10, 12, 14}\n",
      "Symmetric Difference of Set 1 and Set 2: {1, 3, 5, 6, 8, 10, 12, 14}\n",
      "Set 1 after updating with symmetric difference: {1, 2, 3, 4, 5, 6, 8, 10, 12, 14}\n"
     ]
    }
   ],
   "source": [
    "set1 = {n for n in range(1, 6)}\n",
    "set2 = {n for n in range(1, 15) if n % 2 == 0}\n",
    "\n",
    "print(\"Set 1:\", set1)\n",
    "print(\"Set 2:\", set2)\n",
    "\n",
    "set_symmetric_difference = set1 ^ set2\n",
    "print(\"Symmetric Difference of Set 1 and Set 2:\", set_symmetric_difference)\n",
    "\n",
    "set1.update(set1.symmetric_difference(set2))\n",
    "print(\"Set 1 after updating with symmetric difference:\", set1)"
   ]
  },
  {
   "cell_type": "markdown",
   "id": "58d28059",
   "metadata": {},
   "source": [
    "### Assignment 14: Set Membership Testing\n",
    "\n",
    "Create a set and test if certain elements are present in the set. Print the results."
   ]
  },
  {
   "cell_type": "code",
   "execution_count": 46,
   "id": "9381bc94",
   "metadata": {},
   "outputs": [
    {
     "name": "stdout",
     "output_type": "stream",
     "text": [
      "Set of integers: {1, 2, 3, 4, 5, 6, 7, 8, 9, 10}\n",
      "1 is present in the set of integers.\n"
     ]
    }
   ],
   "source": [
    "set_of_integers = set([n for n in range(1, 11)])\n",
    "print(\"Set of integers:\", set_of_integers)\n",
    "\n",
    "if 1 in set_of_integers:\n",
    "    print(\"1 is present in the set of integers.\")"
   ]
  },
  {
   "cell_type": "markdown",
   "metadata": {},
   "source": [
    "### Assignment 15: Set of Tuples\n",
    "\n",
    "Create a set containing tuples, where each tuple contains two elements. Print the set."
   ]
  },
  {
   "cell_type": "code",
   "execution_count": 47,
   "metadata": {},
   "outputs": [
    {
     "name": "stdout",
     "output_type": "stream",
     "text": [
      "Set of tuples: {(1, 2), (3, 4), (5, 6)}\n"
     ]
    }
   ],
   "source": [
    "set_of_tuples = set([(1, 2), (3, 4), (5, 6)])\n",
    "print(\"Set of tuples:\", set_of_tuples)"
   ]
  }
 ],
 "metadata": {
  "kernelspec": {
   "display_name": "Python 3",
   "language": "python",
   "name": "python3"
  },
  "language_info": {
   "codemirror_mode": {
    "name": "ipython",
    "version": 3
   },
   "file_extension": ".py",
   "mimetype": "text/x-python",
   "name": "python",
   "nbconvert_exporter": "python",
   "pygments_lexer": "ipython3",
   "version": "3.12.0"
  }
 },
 "nbformat": 4,
 "nbformat_minor": 5
}
