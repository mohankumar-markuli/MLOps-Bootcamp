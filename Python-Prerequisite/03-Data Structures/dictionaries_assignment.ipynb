{
 "cells": [
  {
   "cell_type": "markdown",
   "id": "a69f4b79",
   "metadata": {},
   "source": [
    "# Module 3: Data Structures Assignments\n",
    "## Lesson 3.4: Dictionaries\n",
    "### Assignment 1: Creating and Accessing Dictionaries\n",
    "\n",
    "Create a dictionary with the first 10 positive integers as keys and their squares as values. Print the dictionary."
   ]
  },
  {
   "cell_type": "code",
   "execution_count": 4,
   "id": "ed977a6e",
   "metadata": {},
   "outputs": [
    {
     "name": "stdout",
     "output_type": "stream",
     "text": [
      "Dictionary from lists: {1: 1, 2: 4, 3: 9, 4: 16, 5: 25, 6: 36, 7: 49, 8: 64, 9: 81, 10: 100}\n"
     ]
    }
   ],
   "source": [
    "list_of_keys = [n for n in range(1, 11)]\n",
    "list_of_values = [n ** 2 for n in range(1, 11)]\n",
    "squared_dictionary= dict(zip(list_of_keys, list_of_values))\n",
    "print(\"Dictionary from lists:\", squared_dictionary)"
   ]
  },
  {
   "cell_type": "markdown",
   "id": "6100c38f",
   "metadata": {},
   "source": [
    "### Assignment 2: Accessing Dictionary Elements\n",
    "\n",
    "Print the value of the key 5 and the keys of the dictionary created in Assignment 1."
   ]
  },
  {
   "cell_type": "code",
   "execution_count": 5,
   "id": "f5e3279f",
   "metadata": {},
   "outputs": [
    {
     "data": {
      "text/plain": [
       "25"
      ]
     },
     "execution_count": 5,
     "metadata": {},
     "output_type": "execute_result"
    }
   ],
   "source": [
    "squared_dictionary[5]"
   ]
  },
  {
   "cell_type": "markdown",
   "id": "94fc1115",
   "metadata": {},
   "source": [
    "### Assignment 3: Dictionary Methods\n",
    "\n",
    "Add a new key-value pair (11, 121) to the dictionary created in Assignment 1 and then remove the key-value pair with key 1. Print the modified dictionary."
   ]
  },
  {
   "cell_type": "code",
   "execution_count": 9,
   "id": "dc6f37ab",
   "metadata": {},
   "outputs": [
    {
     "name": "stdout",
     "output_type": "stream",
     "text": [
      "Updated dictionary with new key-value pair: {1: 1, 2: 4, 3: 9, 4: 16, 5: 25, 6: 36, 7: 49, 8: 64, 9: 81, 10: 100, 11: 121}\n"
     ]
    }
   ],
   "source": [
    "squared_dictionary[11] = 11**2\n",
    "print(\"Updated dictionary with new key-value pair:\", squared_dictionary)"
   ]
  },
  {
   "cell_type": "markdown",
   "id": "98055edc",
   "metadata": {},
   "source": [
    "### Assignment 4: Iterating Over Dictionaries\n",
    "\n",
    "Iterate over the dictionary created in Assignment 1 and print each key-value pair."
   ]
  },
  {
   "cell_type": "code",
   "execution_count": 10,
   "id": "2f3c99fb",
   "metadata": {},
   "outputs": [
    {
     "name": "stdout",
     "output_type": "stream",
     "text": [
      "Key: 1, Value: 1\n",
      "Key: 2, Value: 4\n",
      "Key: 3, Value: 9\n",
      "Key: 4, Value: 16\n",
      "Key: 5, Value: 25\n",
      "Key: 6, Value: 36\n",
      "Key: 7, Value: 49\n",
      "Key: 8, Value: 64\n",
      "Key: 9, Value: 81\n",
      "Key: 10, Value: 100\n",
      "Key: 11, Value: 121\n"
     ]
    }
   ],
   "source": [
    "for key, value in squared_dictionary.items():\n",
    "    print(f\"Key: {key}, Value: {value}\")"
   ]
  },
  {
   "cell_type": "markdown",
   "id": "2fbbcf70",
   "metadata": {},
   "source": [
    "### Assignment 5: Dictionary Comprehensions\n",
    "\n",
    "Create a new dictionary containing the cubes of the first 10 positive integers using a dictionary comprehension. Print the new dictionary."
   ]
  },
  {
   "cell_type": "code",
   "execution_count": 14,
   "id": "2f51ce2a",
   "metadata": {},
   "outputs": [
    {
     "name": "stdout",
     "output_type": "stream",
     "text": [
      "Cubed dictionary: {1: 1, 2: 8, 3: 27, 4: 64, 5: 125, 6: 216, 7: 343, 8: 512, 9: 729, 10: 1000}\n"
     ]
    }
   ],
   "source": [
    "cubed_dictionary = {key: key ** 3 for key in range(1, 11)}\n",
    "print(\"Cubed dictionary:\", cubed_dictionary)"
   ]
  },
  {
   "cell_type": "markdown",
   "id": "15bb19b0",
   "metadata": {},
   "source": [
    "### Assignment 6: Merging Dictionaries\n",
    "\n",
    "Create two dictionaries: one with keys as the first 5 positive integers and values as their squares, and another with keys as the next 5 positive integers and values as their squares. Merge these dictionaries into a single dictionary and print it."
   ]
  },
  {
   "cell_type": "code",
   "execution_count": 21,
   "id": "b3ce3d7d",
   "metadata": {},
   "outputs": [
    {
     "name": "stdout",
     "output_type": "stream",
     "text": [
      "Merged dictionary: {1: 1, 2: 4, 3: 9, 4: 16, 5: 25, 6: 36, 7: 49, 8: 64, 9: 81, 10: 100}\n"
     ]
    }
   ],
   "source": [
    "list_of_keys1 = [n for n in range(1, 6)]\n",
    "list_of_values1 = [n ** 2 for n in range(1, 6)]\n",
    "\n",
    "list_of_keys2 = [n for n in range(6, 11)]\n",
    "list_of_values2 = [n ** 2 for n in range(6, 11)]\n",
    "\n",
    "squared_dictionary1 = dict(zip(list_of_keys1, list_of_values1))\n",
    "squared_dictionary2 = dict(zip(list_of_keys2, list_of_values2))\n",
    "\n",
    "merged_dictionary = {**squared_dictionary1, **squared_dictionary2}\n",
    "print(\"Merged dictionary:\", merged_dictionary)\n"
   ]
  },
  {
   "cell_type": "markdown",
   "id": "f15ace8e",
   "metadata": {},
   "source": [
    "### Assignment 7: Nested Dictionaries\n",
    "\n",
    "Create a nested dictionary representing a student with keys 'name', 'age', 'grades', where 'grades' is another dictionary with keys 'math', 'science', and 'english'. Print the nested dictionary."
   ]
  },
  {
   "cell_type": "code",
   "execution_count": 22,
   "id": "f6d6134e",
   "metadata": {},
   "outputs": [
    {
     "name": "stdout",
     "output_type": "stream",
     "text": [
      "Nested dictionary: {'name': 'Alice', 'age': 30, 'grades': {'math': 90, 'science': 85, 'english': 88}}\n"
     ]
    }
   ],
   "source": [
    "nested_disctionary = {'name': 'Alice','age':30,'grades': {'math': 90, 'science': 85, 'english': 88}}\n",
    "print(\"Nested dictionary:\", nested_disctionary)"
   ]
  },
  {
   "cell_type": "markdown",
   "id": "dc142ac0",
   "metadata": {},
   "source": [
    "### Assignment 8: Dictionary of Lists\n",
    "\n",
    "Create a dictionary where the keys are the first 5 positive integers and the values are lists containing the first 5 multiples of the key. Print the dictionary."
   ]
  },
  {
   "cell_type": "code",
   "execution_count": 24,
   "id": "52b3876f",
   "metadata": {},
   "outputs": [
    {
     "name": "stdout",
     "output_type": "stream",
     "text": [
      "Dictionary with multiples of five: {1: 5, 2: 10, 3: 15, 4: 20, 5: 25}\n"
     ]
    }
   ],
   "source": [
    "dict_multiple_of_five = {n: n * 5 for n in range(1, 6)}\n",
    "print(\"Dictionary with multiples of five:\", dict_multiple_of_five)  "
   ]
  },
  {
   "cell_type": "markdown",
   "id": "57eb8a7a",
   "metadata": {},
   "source": [
    "### Assignment 9: Dictionary of Tuples\n",
    "\n",
    "Create a dictionary where the keys are the first 5 positive integers and the values are tuples containing the key and its square. Print the dictionary."
   ]
  },
  {
   "cell_type": "code",
   "execution_count": 26,
   "id": "3a3d86b4",
   "metadata": {},
   "outputs": [
    {
     "name": "stdout",
     "output_type": "stream",
     "text": [
      "Dictionary of tuples: {1: (1, 1), 2: (2, 4), 3: (3, 9), 4: (4, 16), 5: (5, 25)}\n"
     ]
    }
   ],
   "source": [
    "dictionary_of_tuples = {n: (n, n**2) for n in range(1, 6)}\n",
    "print(\"Dictionary of tuples:\", dictionary_of_tuples)"
   ]
  },
  {
   "cell_type": "markdown",
   "id": "5f00f864",
   "metadata": {},
   "source": [
    "### Assignment 10: Dictionary and List Conversion\n",
    "\n",
    "Create a dictionary with the first 5 positive integers as keys and their squares as values. Convert the dictionary to a list of tuples and print it."
   ]
  },
  {
   "cell_type": "code",
   "execution_count": 29,
   "id": "29eab347",
   "metadata": {},
   "outputs": [
    {
     "name": "stdout",
     "output_type": "stream",
     "text": [
      "Dictionary of squares: {1: 1, 2: 4, 3: 9, 4: 16, 5: 25}\n",
      "List of tuples from dictionary: [(1, 1), (2, 4), (3, 9), (4, 16), (5, 25)]\n"
     ]
    }
   ],
   "source": [
    "dictionary_of_squares = {n: n**2 for n in range(1, 6)}\n",
    "print(\"Dictionary of squares:\", dictionary_of_squares)\n",
    "\n",
    "tuple_list = [(key, value) for key,value in dictionary_of_squares.items()]\n",
    "print(\"List of tuples from dictionary:\", tuple_list)"
   ]
  },
  {
   "cell_type": "markdown",
   "id": "cd767488",
   "metadata": {},
   "source": [
    "### Assignment 11: Dictionary Filtering\n",
    "\n",
    "Create a dictionary with the first 10 positive integers as keys and their squares as values. Create a new dictionary containing only the key-value pairs where the key is even. Print the new dictionary."
   ]
  },
  {
   "cell_type": "code",
   "execution_count": 31,
   "id": "96ea5f39",
   "metadata": {},
   "outputs": [
    {
     "name": "stdout",
     "output_type": "stream",
     "text": [
      "Dictionary of squares: {1: 1, 2: 4, 3: 9, 4: 16, 5: 25, 6: 36, 7: 49, 8: 64, 9: 81, 10: 100}\n",
      "Even keys with their squares: {2: 4, 4: 16, 6: 36, 8: 64, 10: 100}\n"
     ]
    }
   ],
   "source": [
    "dictionary_of_squares = {n: n**2 for n in range(1, 11)}\n",
    "print(\"Dictionary of squares:\", dictionary_of_squares)\n",
    "\n",
    "even_dictionary_squares = {key:value for key, value in dictionary_of_squares.items() if key % 2 == 0}\n",
    "print(\"Even keys with their squares:\", even_dictionary_squares)"
   ]
  },
  {
   "cell_type": "markdown",
   "id": "ae79efef",
   "metadata": {},
   "source": [
    "### Assignment 12: Dictionary Key and Value Transformation\n",
    "\n",
    "Create a dictionary with the first 5 positive integers as keys and their squares as values. Create a new dictionary with keys and values swapped. Print the new dictionary."
   ]
  },
  {
   "cell_type": "code",
   "execution_count": 32,
   "id": "403f8502",
   "metadata": {},
   "outputs": [
    {
     "name": "stdout",
     "output_type": "stream",
     "text": [
      "Dictionary of squares: {1: 1, 2: 4, 3: 9, 4: 16, 5: 25, 6: 36, 7: 49, 8: 64, 9: 81, 10: 100}\n",
      "Swapped dictionary: {1: 1, 4: 2, 9: 3, 16: 4, 25: 5, 36: 6, 49: 7, 64: 8, 81: 9, 100: 10}\n"
     ]
    }
   ],
   "source": [
    "dictionary_of_squares = {n: n**2 for n in range(1, 11)}\n",
    "print(\"Dictionary of squares:\", dictionary_of_squares)\n",
    "\n",
    "swapped_dictionary = {value: key for key, value in dictionary_of_squares.items()}\n",
    "print(\"Swapped dictionary:\", swapped_dictionary)"
   ]
  },
  {
   "cell_type": "markdown",
   "id": "8b72fc8d",
   "metadata": {},
   "source": [
    "### Assignment 13: Default Dictionary\n",
    "\n",
    "Create a default dictionary where each key has a default value of an empty list. Add some elements to the lists and print the dictionary."
   ]
  },
  {
   "cell_type": "code",
   "execution_count": 35,
   "id": "cdca6b00",
   "metadata": {},
   "outputs": [
    {
     "name": "stdout",
     "output_type": "stream",
     "text": [
      "Default dictionary: {'': []}\n"
     ]
    }
   ],
   "source": [
    "default_dict = {'':[]}\n",
    "print(\"Default dictionary:\", default_dict)"
   ]
  },
  {
   "cell_type": "markdown",
   "id": "4e1c6731",
   "metadata": {},
   "source": [
    "### Assignment 14: Counting with Dictionaries\n",
    "\n",
    "Write a function that takes a string and returns a dictionary with the count of each character in the string. Print the dictionary."
   ]
  },
  {
   "cell_type": "code",
   "execution_count": 54,
   "id": "a759f308",
   "metadata": {},
   "outputs": [
    {
     "name": "stdout",
     "output_type": "stream",
     "text": [
      "List of characters: ['h', 'e', 'l', 'l', 'o', 'w', 'o', 'r', 'l', 'd']\n"
     ]
    }
   ],
   "source": [
    "string = \"hello world\"\n",
    "lst_of_characters = [char for char in string if char.isalpha()]\n",
    "print(\"List of characters:\", lst_of_characters)"
   ]
  },
  {
   "cell_type": "code",
   "execution_count": 55,
   "id": "7537e53e",
   "metadata": {},
   "outputs": [
    {
     "name": "stdout",
     "output_type": "stream",
     "text": [
      "Occurrences of each character: {'h': 1, 'e': 1, 'l': 3, 'o': 2, 'w': 1, 'r': 1, 'd': 1}\n"
     ]
    }
   ],
   "source": [
    "def count_occurrences(string):\n",
    "    lst_of_characters = [char for char in string if char.isalpha()]\n",
    "    occurrences = {}\n",
    "    for letter in lst_of_characters:\n",
    "        occurrences[letter] = occurrences.get(letter, 0) + 1\n",
    "    return occurrences\n",
    "\n",
    "input_string = \"hello world\"\n",
    "occurrences = count_occurrences(input_string)\n",
    "print(\"Occurrences of each character:\", occurrences)"
   ]
  },
  {
   "cell_type": "markdown",
   "metadata": {},
   "source": [
    "### Assignment 15: Dictionary and JSON\n",
    "\n",
    "Create a dictionary representing a book with keys 'title', 'author', 'year', and 'genre'. Convert the dictionary to a JSON string and print it."
   ]
  },
  {
   "cell_type": "code",
   "execution_count": 56,
   "metadata": {},
   "outputs": [],
   "source": [
    "dictanory_book = {'title': 'Python Programming', 'author': 'John Doe', 'year': 2023, 'genre': 'Programming'}"
   ]
  },
  {
   "cell_type": "code",
   "execution_count": 57,
   "id": "506b6911",
   "metadata": {},
   "outputs": [
    {
     "name": "stdout",
     "output_type": "stream",
     "text": [
      "JSON string: {\"title\": \"Python Programming\", \"author\": \"John Doe\", \"year\": 2023, \"genre\": \"Programming\"}\n"
     ]
    }
   ],
   "source": [
    "# convert to json\n",
    "import json\n",
    "json_string = json.dumps(dictanory_book)\n",
    "print(\"JSON string:\", json_string)"
   ]
  }
 ],
 "metadata": {
  "kernelspec": {
   "display_name": "Python 3",
   "language": "python",
   "name": "python3"
  },
  "language_info": {
   "codemirror_mode": {
    "name": "ipython",
    "version": 3
   },
   "file_extension": ".py",
   "mimetype": "text/x-python",
   "name": "python",
   "nbconvert_exporter": "python",
   "pygments_lexer": "ipython3",
   "version": "3.12.0"
  }
 },
 "nbformat": 4,
 "nbformat_minor": 5
}
