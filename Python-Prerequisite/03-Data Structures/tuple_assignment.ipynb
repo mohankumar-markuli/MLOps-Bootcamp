{
 "cells": [
  {
   "cell_type": "markdown",
   "id": "abff062d",
   "metadata": {},
   "source": [
    "# Module 3: Data Structures Assignments\n",
    "## Lesson 3.2: Tuples\n",
    "### Assignment 1: Creating and Accessing Tuples\n",
    "\n",
    "Create a tuple with the first 10 positive integers. Print the tuple."
   ]
  },
  {
   "cell_type": "code",
   "execution_count": 6,
   "id": "00ce3684",
   "metadata": {},
   "outputs": [
    {
     "name": "stdout",
     "output_type": "stream",
     "text": [
      "Tuple of integers: (1, 2, 3, 4, 5, 6, 7, 8, 9, 10)\n",
      "Tuple of integers: (1, 2, 3, 4, 5, 6, 7, 8, 9, 10)\n"
     ]
    }
   ],
   "source": [
    "tuple_of_integers = (1,2,3,4,5,6,7,8,9,10)\n",
    "print(\"Tuple of integers:\", tuple_of_integers)\n",
    "\n",
    "tuple_of_integers = tuple(n for n in range(1, 11))\n",
    "print(\"Tuple of integers:\", tuple_of_integers)"
   ]
  },
  {
   "cell_type": "markdown",
   "id": "7982ce0d",
   "metadata": {},
   "source": [
    "### Assignment 2: Accessing Tuple Elements\n",
    "\n",
    "Print the first, middle, and last elements of the tuple created in Assignment 1."
   ]
  },
  {
   "cell_type": "code",
   "execution_count": 8,
   "id": "1d86734a",
   "metadata": {},
   "outputs": [
    {
     "name": "stdout",
     "output_type": "stream",
     "text": [
      "first element: 1\n",
      "last element: 10\n",
      "middle element: 6\n"
     ]
    }
   ],
   "source": [
    "print(\"first element:\", tuple_of_integers[0])\n",
    "print(\"last element:\", tuple_of_integers[-1])\n",
    "print(\"middle element:\", tuple_of_integers[len(tuple_of_integers) // 2])"
   ]
  },
  {
   "cell_type": "markdown",
   "id": "3e76369c",
   "metadata": {},
   "source": [
    "### Assignment 3: Tuple Slicing\n",
    "\n",
    "Print the first three elements, the last three elements, and the elements from index 2 to 5 of the tuple created in Assignment 1."
   ]
  },
  {
   "cell_type": "code",
   "execution_count": 9,
   "id": "1864854c",
   "metadata": {},
   "outputs": [
    {
     "name": "stdout",
     "output_type": "stream",
     "text": [
      "First 3 elements: (1, 2, 3)\n",
      "Last 3 elements: (8, 9, 10)\n",
      "Elements from index 2 to 5: (3, 4, 5, 6)\n"
     ]
    }
   ],
   "source": [
    "print(\"First 3 elements:\", tuple_of_integers[:3])\n",
    "print(\"Last 3 elements:\", tuple_of_integers[-3:])\n",
    "print(\"Elements from index 2 to 5:\", tuple_of_integers[2:6])"
   ]
  },
  {
   "cell_type": "markdown",
   "id": "af8a2959",
   "metadata": {},
   "source": [
    "### Assignment 4: Nested Tuples\n",
    "\n",
    "Create a nested tuple representing a 3x3 matrix and print the matrix. Access and print the element at the second row and third column."
   ]
  },
  {
   "cell_type": "code",
   "execution_count": 16,
   "id": "e3ecf646",
   "metadata": {},
   "outputs": [
    {
     "name": "stdout",
     "output_type": "stream",
     "text": [
      "Matrix representation: ((1, 2, 3), (4, 5, 6), (7, 8, 9))\n",
      "1 2 3 \n",
      "4 5 6 \n",
      "7 8 9 \n",
      "Elements in 2nd row 3rd column: 6\n"
     ]
    }
   ],
   "source": [
    "Mmatrix = tuple_of_integers[:3], tuple_of_integers[3:6], tuple_of_integers[6:9]\n",
    "print(\"Matrix representation:\", Mmatrix)\n",
    "\n",
    "for row in Mmatrix:\n",
    "    for element in row:\n",
    "        print(element, end=' ')\n",
    "    print()\n",
    "\n",
    "print(\"Elements in 2nd row 3rd column:\", Mmatrix[1][2])"
   ]
  },
  {
   "cell_type": "markdown",
   "id": "b871ffaf",
   "metadata": {},
   "source": [
    "### Assignment 5: Tuple Concatenation\n",
    "\n",
    "Concatenate two tuples: (1, 2, 3) and (4, 5, 6). Print the resulting tuple."
   ]
  },
  {
   "cell_type": "code",
   "execution_count": 37,
   "id": "5dcaa713",
   "metadata": {},
   "outputs": [
    {
     "name": "stdout",
     "output_type": "stream",
     "text": [
      "Concatenated tuple: (1, 2, 3, 4, 5, 6)\n",
      "Concatenated tuple: (1, 2, 3, 4, 5, 6)\n",
      "Concatenated tuple: (1, 2, 3, 4, 5, 6, 7, 8, 9)\n",
      "Error: 'tuple' object does not support item assignment\n",
      "Error: 'tuple' object has no attribute 'append'\n"
     ]
    }
   ],
   "source": [
    "tuple1 = (1, 2, 3)\n",
    "tuple2 = (4, 5, 6)\n",
    "\n",
    "touple_concatenated = tuple1 + tuple2\n",
    "print(\"Concatenated tuple:\", touple_concatenated)\n",
    "\n",
    "tuple1 = tuple1 + tuple2\n",
    "print(\"Concatenated tuple:\", tuple1) \n",
    "tuple1 += (7, 8, 9)\n",
    "print(\"Concatenated tuple:\", tuple1) \n",
    "\n",
    "try:\n",
    "    tuple1[0] = 10\n",
    "except TypeError as e:\n",
    "    print(\"Error:\", e)\n",
    "\n",
    "try:\n",
    "    tuple1.append(10)\n",
    "except AttributeError as e:\n",
    "    print(\"Error:\", e)\n"
   ]
  },
  {
   "cell_type": "markdown",
   "id": "66e2ce2a",
   "metadata": {},
   "source": [
    "### Assignment 6: Tuple Methods\n",
    "\n",
    "Create a tuple with duplicate elements and count the occurrences of an element. Find the index of the first occurrence of an element in the tuple."
   ]
  },
  {
   "cell_type": "code",
   "execution_count": 28,
   "id": "f51f6745",
   "metadata": {},
   "outputs": [
    {
     "name": "stdout",
     "output_type": "stream",
     "text": [
      "Tuple with duplicates: (1, 2, 2, 3, 4, 4, 5)\n",
      "Unique tuple: (1, 2, 3, 4, 5)\n",
      "Element 1 first occurance found at index 0\n",
      "Element 2 first occurance found at index 1\n",
      "Element 3 first occurance found at index 3\n",
      "Element 4 first occurance found at index 4\n",
      "Element 5 first occurance found at index 6\n"
     ]
    }
   ],
   "source": [
    "tuple_with_duplicates = (1, 2, 2, 3, 4, 4, 5)\n",
    "unique_tuple = tuple(set(tuple_with_duplicates))\n",
    "\n",
    "print(\"Tuple with duplicates:\", tuple_with_duplicates)\n",
    "print(\"Unique tuple:\", unique_tuple)\n",
    "\n",
    "for element in unique_tuple:\n",
    "    if element in tuple_with_duplicates:\n",
    "        print(f\"Element {element} first occurance found at index {tuple_with_duplicates.index(element)}\")"
   ]
  },
  {
   "cell_type": "markdown",
   "id": "ddec5451",
   "metadata": {},
   "source": [
    "### Assignment 7: Unpacking Tuples\n",
    "\n",
    "Create a tuple with 5 elements and unpack it into 5 variables. Print the variables."
   ]
  },
  {
   "cell_type": "code",
   "execution_count": 30,
   "id": "966ad4ff",
   "metadata": {},
   "outputs": [
    {
     "name": "stdout",
     "output_type": "stream",
     "text": [
      "Tuple of names: ('Alice', 'Bob', 'Charlie', 'David', 'Eve')\n",
      "Student 1: Alice\n",
      "Student 2: Bob\n",
      "Student 3: Charlie\n",
      "Student 4: David\n",
      "Student 5: Eve\n"
     ]
    }
   ],
   "source": [
    "tuple_of_names = (\"Alice\", \"Bob\", \"Charlie\", \"David\", \"Eve\")\n",
    "print(\"Tuple of names:\", tuple_of_names)\n",
    "\n",
    "# tuple unpacking\n",
    "stuent1, student2, student3, student4, student5 = tuple_of_names\n",
    "print(\"Student 1:\", stuent1)\n",
    "print(\"Student 2:\", student2)\n",
    "print(\"Student 3:\", student3)\n",
    "print(\"Student 4:\", student4)\n",
    "print(\"Student 5:\", student5)"
   ]
  },
  {
   "cell_type": "markdown",
   "id": "6e980dd4",
   "metadata": {},
   "source": [
    "### Assignment 8: Tuple Conversion\n",
    "\n",
    "Convert a list of the first 5 positive integers to a tuple. Print the tuple."
   ]
  },
  {
   "cell_type": "code",
   "execution_count": 32,
   "id": "f4796b50",
   "metadata": {},
   "outputs": [
    {
     "name": "stdout",
     "output_type": "stream",
     "text": [
      "List of integers: [1, 2, 3, 4, 5]\n",
      "Converted list to tuple: (1, 2, 3, 4, 5)\n"
     ]
    }
   ],
   "source": [
    "list_of_integers = [1, 2, 3, 4, 5]\n",
    "print(\"List of integers:\", list_of_integers)\n",
    "\n",
    "tuple_of_integers = tuple(list_of_integers)\n",
    "print(\"Converted list to tuple:\", tuple_of_integers)"
   ]
  },
  {
   "cell_type": "markdown",
   "id": "dff75454",
   "metadata": {},
   "source": [
    "### Assignment 9: Tuple of Tuples\n",
    "\n",
    "Create a tuple containing 3 tuples, each with 3 elements. Print the tuple of tuples."
   ]
  },
  {
   "cell_type": "code",
   "execution_count": 33,
   "id": "b4f882c3",
   "metadata": {},
   "outputs": [
    {
     "name": "stdout",
     "output_type": "stream",
     "text": [
      "Tuple of tuples: ((1, 2, 3), (4, 5, 6), (7, 8, 9))\n"
     ]
    }
   ],
   "source": [
    "tuple1 = (1, 2, 3)\n",
    "tuple2 = (4, 5, 6)\n",
    "tuple3 = (7, 8, 9)\n",
    "tuple_of_tuples = (tuple1, tuple2, tuple3)\n",
    "print(\"Tuple of tuples:\", tuple_of_tuples)"
   ]
  },
  {
   "cell_type": "markdown",
   "id": "290996e4",
   "metadata": {},
   "source": [
    "### Assignment 10: Tuple and List\n",
    "\n",
    "Create a tuple with the first 5 positive integers. Convert it to a list, append the number 6, and convert it back to a tuple. Print the resulting tuple."
   ]
  },
  {
   "cell_type": "code",
   "execution_count": 39,
   "id": "dc65795c",
   "metadata": {},
   "outputs": [
    {
     "name": "stdout",
     "output_type": "stream",
     "text": [
      "Tuple of integers: (1, 2, 3, 4, 5)\n",
      "Converted tuple to list: [1, 2, 3, 4, 5]\n",
      "List after appending 6: [1, 2, 3, 4, 5, 6]\n",
      "Converted list back to tuple: (1, 2, 3, 4, 5, 6)\n"
     ]
    }
   ],
   "source": [
    "tuple_of_integers = tuple([n for n in range(1, 6)])\n",
    "print(\"Tuple of integers:\", tuple_of_integers)\n",
    "\n",
    "list_of_integers = list(tuple_of_integers)\n",
    "print(\"Converted tuple to list:\", list_of_integers)\n",
    "\n",
    "list_of_integers.append(6)\n",
    "print(\"List after appending 6:\", list_of_integers)\n",
    "\n",
    "tuple_of_integers = tuple(list_of_integers)\n",
    "print(\"Converted list back to tuple:\", tuple_of_integers)"
   ]
  },
  {
   "cell_type": "markdown",
   "id": "cf638aab",
   "metadata": {},
   "source": [
    "### Assignment 11: Tuple and String\n",
    "\n",
    "Create a tuple with the characters of a string. Join the tuple elements into a single string. Print the string."
   ]
  },
  {
   "cell_type": "code",
   "execution_count": 42,
   "id": "e8e29475",
   "metadata": {},
   "outputs": [
    {
     "name": "stdout",
     "output_type": "stream",
     "text": [
      "Tuple of characters: ('M', 'o', 'h', 'a', 'n', 'k', 'u', 'm', 'a', 'r')\n",
      "Converted tuple of characters to string: Mohankumar\n"
     ]
    }
   ],
   "source": [
    "tuple_of_Characters = tuple(\"Mohankumar\")\n",
    "print(\"Tuple of characters:\", tuple_of_Characters)\n",
    "\n",
    "string = ''.join(tuple_of_Characters)\n",
    "print(\"Converted tuple of characters to string:\", string)"
   ]
  },
  {
   "cell_type": "markdown",
   "id": "d5246ef9",
   "metadata": {},
   "source": [
    "### Assignment 12: Tuple and Dictionary\n",
    "\n",
    "Create a dictionary with tuple keys and integer values. Print the dictionary."
   ]
  },
  {
   "cell_type": "code",
   "execution_count": 46,
   "id": "1aba6f93",
   "metadata": {},
   "outputs": [
    {
     "name": "stdout",
     "output_type": "stream",
     "text": [
      "Dictionary from tuples: {'name': 'Alice', 'age': 30, 'city': 'New York'}\n"
     ]
    }
   ],
   "source": [
    "tuple_of_keys = (\"name\", \"age\", \"city\")\n",
    "tuple_of_values = (\"Alice\", 30, \"New York\")\n",
    "dictionary_from_tuples = dict(zip(tuple_of_keys, tuple_of_values))\n",
    "print(\"Dictionary from tuples:\", dictionary_from_tuples)"
   ]
  },
  {
   "cell_type": "markdown",
   "id": "e6b63356",
   "metadata": {},
   "source": [
    "### Assignment 13: Nested Tuple Iteration\n",
    "\n",
    "Create a nested tuple and iterate over the elements, printing each element."
   ]
  },
  {
   "cell_type": "code",
   "execution_count": 48,
   "id": "cb22209d",
   "metadata": {},
   "outputs": [
    {
     "name": "stdout",
     "output_type": "stream",
     "text": [
      "Nested tuple: (1, (2, 3), (4, 5, (6, 7)))\n",
      "1 2 3 4 5 6 7 "
     ]
    }
   ],
   "source": [
    "nested_tuple = (1, (2, 3), (4, 5, (6, 7)))\n",
    "print(\"Nested tuple:\", nested_tuple)\n",
    "\n",
    "for element in nested_tuple:\n",
    "    if isinstance(element, tuple):\n",
    "        for sub_element in element:\n",
    "            if isinstance(sub_element, tuple):\n",
    "                for sub_sub_element in sub_element:\n",
    "                    print(sub_sub_element, end=' ')\n",
    "            else:\n",
    "                print(sub_element, end=' ')\n",
    "    else:\n",
    "        print(element, end=' ')"
   ]
  },
  {
   "cell_type": "markdown",
   "id": "b1701ac4",
   "metadata": {},
   "source": [
    "### Assignment 14: Tuple and Set\n",
    "\n",
    "Create a tuple with duplicate elements. Convert it to a set to remove duplicates and print the resulting set.\n"
   ]
  },
  {
   "cell_type": "code",
   "execution_count": 50,
   "id": "fb53afe7",
   "metadata": {},
   "outputs": [
    {
     "name": "stdout",
     "output_type": "stream",
     "text": [
      "Tuple with duplicates: (1, 2, 2, 3, 4, 4, 5)\n",
      "Unique tuple: (1, 2, 3, 4, 5)\n"
     ]
    }
   ],
   "source": [
    "tuple_with_duplicates = (1, 2, 2, 3, 4, 4, 5)\n",
    "print(\"Tuple with duplicates:\", tuple_with_duplicates)\n",
    "\n",
    "unique_tuple = tuple(set(tuple_with_duplicates))\n",
    "print(\"Unique tuple:\", unique_tuple)"
   ]
  },
  {
   "cell_type": "markdown",
   "id": "6cade624",
   "metadata": {},
   "source": [
    "### Assignment 15: Tuple Functions\n",
    "\n",
    "Write functions that take a tuple and return the minimum, maximum, and sum of the elements. Print the results for a sample tuple."
   ]
  },
  {
   "cell_type": "code",
   "execution_count": 52,
   "metadata": {},
   "outputs": [
    {
     "name": "stdout",
     "output_type": "stream",
     "text": [
      "Math Operations Result:\n",
      "Minimum value: 1\n",
      "Maximum value: 6\n",
      "Sum of elements: 21\n"
     ]
    }
   ],
   "source": [
    "def MathOperations(tuple_of_integers):\n",
    "    min_value = min(tuple_of_integers)\n",
    "    max_value = max(tuple_of_integers)\n",
    "    sum_tuple = sum(tuple_of_integers)\n",
    "    return min_value, max_value, sum_tuple\n",
    "\n",
    "MathOperationsResult = MathOperations(tuple_of_integers)\n",
    "min_value, max_value, sum_tuple = MathOperationsResult\n",
    "print(\"Math Operations Result:\")\n",
    "print(\"Minimum value:\", min_value)\n",
    "print(\"Maximum value:\", max_value)\n",
    "print(\"Sum of elements:\", sum_tuple)\n"
   ]
  },
  {
   "cell_type": "code",
   "execution_count": 54,
   "id": "f074eb59",
   "metadata": {},
   "outputs": [
    {
     "name": "stdout",
     "output_type": "stream",
     "text": [
      "Math Operations Result using lambda:\n",
      "Minimum value: 1\n",
      "Maximum value: 6\n",
      "Sum of elements: 21\n"
     ]
    }
   ],
   "source": [
    "MathOperationsResult = lambda tuple_of_integers: (min(tuple_of_integers), max(tuple_of_integers), sum(tuple_of_integers))\n",
    "min_value, max_value, sum_tuple = MathOperationsResult(tuple_of_integers)\n",
    "\n",
    "print(\"Math Operations Result using lambda:\")\n",
    "print(\"Minimum value:\", min_value)\n",
    "print(\"Maximum value:\", max_value)\n",
    "print(\"Sum of elements:\", sum_tuple)"
   ]
  }
 ],
 "metadata": {
  "kernelspec": {
   "display_name": "Python 3",
   "language": "python",
   "name": "python3"
  },
  "language_info": {
   "codemirror_mode": {
    "name": "ipython",
    "version": 3
   },
   "file_extension": ".py",
   "mimetype": "text/x-python",
   "name": "python",
   "nbconvert_exporter": "python",
   "pygments_lexer": "ipython3",
   "version": "3.12.0"
  }
 },
 "nbformat": 4,
 "nbformat_minor": 5
}
