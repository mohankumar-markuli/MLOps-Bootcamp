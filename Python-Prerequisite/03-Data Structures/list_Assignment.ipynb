{
 "cells": [
  {
   "cell_type": "markdown",
   "id": "2faa8025",
   "metadata": {},
   "source": [
    "# Module 3: Data Structures Assignments\n",
    "## Lesson 3.1: Lists\n",
    "### Assignment 1: Creating and Accessing Lists\n",
    "\n",
    "Create a list of the first 20 positive integers. Print the list."
   ]
  },
  {
   "cell_type": "code",
   "execution_count": 1,
   "id": "3d9dab88",
   "metadata": {},
   "outputs": [
    {
     "name": "stdout",
     "output_type": "stream",
     "text": [
      "[1, 2, 3, 4, 5, 6, 7, 8, 9, 10, 11, 12, 13, 14, 15, 16, 17, 18, 19, 20]\n"
     ]
    }
   ],
   "source": [
    "positive_intergers = list(range(1, 21))\n",
    "print(positive_intergers)"
   ]
  },
  {
   "cell_type": "markdown",
   "id": "ee389a31",
   "metadata": {},
   "source": [
    "### Assignment 2: Accessing List Elements\n",
    "\n",
    "Print the first, middle, and last elements of the list created in Assignment 1."
   ]
  },
  {
   "cell_type": "code",
   "execution_count": null,
   "id": "8fb0fb2e",
   "metadata": {},
   "outputs": [
    {
     "name": "stdout",
     "output_type": "stream",
     "text": [
      "First element: 1\n",
      "Middle element: 11\n",
      "Last element: 20\n"
     ]
    }
   ],
   "source": [
    "first_element = positive_intergers[0]\n",
    "print(f\"First element: {first_element}\")\n",
    "\n",
    "middle_index = len(positive_intergers) // 2\n",
    "middle_element = positive_intergers[middle_index]\n",
    "print(f\"Middle element: {middle_element}\")      \n",
    "\n",
    "last_element = positive_intergers[-1]\n",
    "print(f\"Last element: {last_element}\") "
   ]
  },
  {
   "cell_type": "markdown",
   "id": "7e28b3bc",
   "metadata": {},
   "source": [
    "### Assignment 3: List Slicing\n",
    "\n",
    "Print the first five elements, the last five elements, and the elements from index 5 to 15 of the list created in Assignment 1."
   ]
  },
  {
   "cell_type": "code",
   "execution_count": 7,
   "id": "a3c62fbb",
   "metadata": {},
   "outputs": [
    {
     "name": "stdout",
     "output_type": "stream",
     "text": [
      "[1, 2, 3, 4, 5, 6, 7, 8, 9, 10, 11, 12, 13, 14, 15, 16, 17, 18, 19, 20]\n",
      "[1, 2, 3, 4, 5]\n",
      "[16, 17, 18, 19, 20]\n",
      "[6, 7, 8, 9, 10, 11, 12, 13, 14, 15]\n"
     ]
    }
   ],
   "source": [
    "print(positive_intergers)\n",
    "print(positive_intergers[:5])\n",
    "print(positive_intergers[-5:])\n",
    "print(positive_intergers[5:15])"
   ]
  },
  {
   "cell_type": "markdown",
   "id": "e2f7d1f1",
   "metadata": {},
   "source": [
    "### Assignment 4: List Comprehensions\n",
    "\n",
    "Create a new list containing the squares of the first 10 positive integers using a list comprehension. Print the new list."
   ]
  },
  {
   "cell_type": "code",
   "execution_count": 9,
   "id": "4a89e387",
   "metadata": {},
   "outputs": [
    {
     "name": "stdout",
     "output_type": "stream",
     "text": [
      "[1, 4, 9, 16, 25, 36, 49, 64, 81, 100]\n"
     ]
    }
   ],
   "source": [
    "new_list = [i**2 for i in positive_intergers[0:10]]\n",
    "print(new_list)"
   ]
  },
  {
   "cell_type": "markdown",
   "id": "7fb3d9a3",
   "metadata": {},
   "source": [
    "### Assignment 5: Filtering Lists\n",
    "\n",
    "Create a new list containing only the even numbers from the list created in Assignment 1 using a list comprehension. Print the new list."
   ]
  },
  {
   "cell_type": "code",
   "execution_count": 11,
   "id": "ddd7de80",
   "metadata": {},
   "outputs": [
    {
     "name": "stdout",
     "output_type": "stream",
     "text": [
      "[2, 4, 6, 8, 10, 12, 14, 16, 18, 20]\n"
     ]
    }
   ],
   "source": [
    "even_number_list = [i for i in positive_intergers if i % 2 == 0 ]\n",
    "print(even_number_list)"
   ]
  },
  {
   "cell_type": "markdown",
   "id": "fb49ab29",
   "metadata": {},
   "source": [
    "### Assignment 6: List Methods\n",
    "\n",
    "Create a list of random numbers and sort it in ascending and descending order. Remove the duplicates from the list and print the modified list."
   ]
  },
  {
   "cell_type": "code",
   "execution_count": 18,
   "id": "ad7d1a05",
   "metadata": {},
   "outputs": [
    {
     "name": "stdout",
     "output_type": "stream",
     "text": [
      "[94, 71, 89, 28, 71, 91, 49, 81, 31, 15, 5, 60, 93, 46, 22, 88, 22, 72, 89, 10]\n",
      "[5, 10, 15, 22, 22, 28, 31, 46, 49, 60, 71, 71, 72, 81, 88, 89, 89, 91, 93, 94]\n",
      "[94, 93, 91, 89, 89, 88, 81, 72, 71, 71, 60, 49, 46, 31, 28, 22, 22, 15, 10, 5]\n"
     ]
    }
   ],
   "source": [
    "from random import randint\n",
    "random_list = [randint(1, 100) for _ in range(20)]\n",
    "print(random_list)\n",
    "\n",
    "assend_order_list = sorted(random_list)\n",
    "print(assend_order_list)\n",
    "\n",
    "descend_order_list = sorted(random_list, reverse=True)\n",
    "print(descend_order_list)"
   ]
  },
  {
   "cell_type": "markdown",
   "id": "69d6913c",
   "metadata": {},
   "source": [
    "### Assignment 7: Nested Lists\n",
    "\n",
    "Create a nested list representing a 3x3 matrix and print the matrix. Access and print the element at the second row and third column."
   ]
  },
  {
   "cell_type": "code",
   "execution_count": 29,
   "id": "e78dfaa4",
   "metadata": {},
   "outputs": [
    {
     "name": "stdout",
     "output_type": "stream",
     "text": [
      "[[1, 2, 3], [4, 5, 6], [7, 8, 9]]\n"
     ]
    }
   ],
   "source": [
    "nested_list = [[1,2,3], [4,5,6], [7,8,9]]\n",
    "print(nested_list) "
   ]
  },
  {
   "cell_type": "code",
   "execution_count": 30,
   "id": "bba84c51",
   "metadata": {},
   "outputs": [
    {
     "name": "stdout",
     "output_type": "stream",
     "text": [
      "[1, 2, 3]\n",
      "[4, 5, 6]\n",
      "[7, 8, 9]\n"
     ]
    }
   ],
   "source": [
    "for sublist in nested_list:\n",
    "    print(sublist, end='\\n')"
   ]
  },
  {
   "cell_type": "markdown",
   "id": "fe1fa495",
   "metadata": {},
   "source": [
    "### Assignment 8: List of Dictionaries\n",
    "\n",
    "Create a list of dictionaries where each dictionary represents a student with keys 'name' and 'score'. Sort the list of dictionaries by the 'score' in descending order and print the sorted list."
   ]
  },
  {
   "cell_type": "code",
   "execution_count": 36,
   "id": "65e4766a",
   "metadata": {},
   "outputs": [
    {
     "name": "stdout",
     "output_type": "stream",
     "text": [
      "Name: Student  1, Age: 20, Score: 85\n",
      "Name: Student  2, Age: 22, Score: 90\n",
      "Name: Student  3, Age: 21, Score: 88\n",
      "Name: Student  4, Age: 23, Score: 92\n",
      "Name: Student  5, Age: 20, Score: 87\n"
     ]
    }
   ],
   "source": [
    "list_of_students = [\n",
    "    {\"name\": \"Student  1\", \"age\": 20, \"score\": 85},\n",
    "    {\"name\": \"Student  2\", \"age\": 22, \"score\": 90},\n",
    "    {\"name\": \"Student  3\", \"age\": 21, \"score\": 88},\n",
    "    {\"name\": \"Student  4\", \"age\": 23, \"score\": 92},\n",
    "    {\"name\": \"Student  5\", \"age\": 20, \"score\":  87}\n",
    "]\n",
    "\n",
    "for student in list_of_students:\n",
    "    print(f\"Name: {student['name']}, Age: {student['age']}, Score: {student['score']}\")"
   ]
  },
  {
   "cell_type": "code",
   "execution_count": 38,
   "id": "6626b05d",
   "metadata": {},
   "outputs": [
    {
     "name": "stdout",
     "output_type": "stream",
     "text": [
      "Name: Student  4, Age: 23, Score: 92\n",
      "Name: Student  2, Age: 22, Score: 90\n",
      "Name: Student  3, Age: 21, Score: 88\n",
      "Name: Student  5, Age: 20, Score: 87\n",
      "Name: Student  1, Age: 20, Score: 85\n"
     ]
    }
   ],
   "source": [
    "sorted_students = sorted(list_of_students, key=lambda x: x['score'], reverse=True)\n",
    "for student in sorted_students:\n",
    "    print(f\"Name: {student['name']}, Age: {student['age']}, Score: {student['score']}\")"
   ]
  },
  {
   "cell_type": "markdown",
   "id": "c42ac173",
   "metadata": {},
   "source": [
    "### Assignment 9: Matrix Transposition\n",
    "\n",
    "Write a function that takes a 3x3 matrix (nested list) as input and returns its transpose. Print the original and transposed matrices."
   ]
  },
  {
   "cell_type": "code",
   "execution_count": 45,
   "id": "cf957107",
   "metadata": {},
   "outputs": [
    {
     "name": "stdout",
     "output_type": "stream",
     "text": [
      "Original matrix:\n",
      "[1, 2]\n",
      "[3, 4]\n",
      "[5, 6]\n",
      "Transposed matrix:\n",
      "[1, 3, 5]\n",
      "[2, 4, 6]\n"
     ]
    }
   ],
   "source": [
    "list_of_lists = [[1, 2], [3, 4], [5, 6]]\n",
    "\n",
    "def transpose_matrix(matrix):\n",
    "    return [[row[i] for row in matrix] for i in range(len(matrix[0]))]\n",
    "\n",
    "print(\"Original matrix:\")\n",
    "for row in list_of_lists:\n",
    "    print(row)\n",
    "\n",
    "transpose_matrix = transpose_matrix(list_of_lists)\n",
    "print(\"Transposed matrix:\")\n",
    "for row in transpose_matrix:\n",
    "    print(row)"
   ]
  },
  {
   "cell_type": "markdown",
   "id": "d69e52e0",
   "metadata": {},
   "source": [
    "### Assignment 10: Flattening a Nested List\n",
    "\n",
    "Write a function that takes a nested list and flattens it into a single list. Print the original and flattened lists."
   ]
  },
  {
   "cell_type": "code",
   "execution_count": 47,
   "id": "3835489e",
   "metadata": {},
   "outputs": [
    {
     "name": "stdout",
     "output_type": "stream",
     "text": [
      "Flattened list: [1, 2, 3, 4, 5, 6]\n"
     ]
    }
   ],
   "source": [
    "list_of_lists = [[1, 2], [3, 4], [5, 6]]\n",
    "flattened_list = [item for sublist in list_of_lists for item in sublist]\n",
    "print(\"Flattened list:\", flattened_list)"
   ]
  },
  {
   "cell_type": "markdown",
   "id": "6faa168b",
   "metadata": {},
   "source": [
    "### Assignment 11: List Manipulation\n",
    "\n",
    "Create a list of the first 10 positive integers. Remove the elements at indices 2, 4, and 6, and insert the element '99' at index 5. Print the modified list."
   ]
  },
  {
   "cell_type": "code",
   "execution_count": 54,
   "id": "d33bc6cd",
   "metadata": {},
   "outputs": [
    {
     "name": "stdout",
     "output_type": "stream",
     "text": [
      "List of numbers: [1, 2, 3, 4, 5, 6, 7, 8, 9, 10]\n",
      "List of numbers: [1, 3, 5, 7, 8, 9, 10]\n",
      "List of numbers: [1, 3, 5, 7, 8, 99, 9, 10]\n"
     ]
    }
   ],
   "source": [
    "list_of_numbers = [i for i in range(1, 11)]\n",
    "print(\"List of numbers:\", list_of_numbers)\n",
    "\n",
    "list_of_numbers.remove(2)\n",
    "list_of_numbers.remove(4)\n",
    "list_of_numbers.remove(6)\n",
    "print(\"List of numbers:\", list_of_numbers)\n",
    "\n",
    "list_of_numbers.insert(5, 99)\n",
    "print(\"List of numbers:\", list_of_numbers)"
   ]
  },
  {
   "cell_type": "markdown",
   "id": "47f5eaee",
   "metadata": {},
   "source": [
    "### Assignment 12: List Zipping\n",
    "\n",
    "Create two lists of the same length. Use the `zip` function to combine these lists into a list of tuples and print the result."
   ]
  },
  {
   "cell_type": "code",
   "execution_count": 55,
   "id": "7cacfe85",
   "metadata": {},
   "outputs": [
    {
     "name": "stdout",
     "output_type": "stream",
     "text": [
      "Zipped list: [(1, 4), (2, 5), (3, 6)]\n"
     ]
    }
   ],
   "source": [
    "list1= [1, 2, 3]\n",
    "list2 = [4, 5, 6]\n",
    "\n",
    "new_list = zip(list1, list2)\n",
    "print(\"Zipped list:\", list(new_list))"
   ]
  },
  {
   "cell_type": "markdown",
   "id": "bd1bccc9",
   "metadata": {},
   "source": [
    "\n",
    "### Assignment 13: List Reversal\n",
    "\n",
    "Write a function that takes a list and returns a new list with the elements in reverse order. Print the original and reversed lists."
   ]
  },
  {
   "cell_type": "code",
   "execution_count": 61,
   "id": "db8d4cb3",
   "metadata": {},
   "outputs": [
    {
     "name": "stdout",
     "output_type": "stream",
     "text": [
      "Original list: [1, 2, 3, 4, 5]\n",
      "Method 1 reversed list:  [5, 4, 3, 2, 1]\n",
      "Method 2 reversed list: [5, 4, 3, 2, 1]\n"
     ]
    }
   ],
   "source": [
    "list_of_numbers = [1, 2, 3, 4, 5]\n",
    "\n",
    "print(\"Original list:\", list_of_numbers)\n",
    "print(\"Method 1 reversed list: \",list_of_numbers[::-1])\n",
    "print(\"Method 2 reversed list:\", list(reversed(list_of_numbers)))"
   ]
  },
  {
   "cell_type": "markdown",
   "id": "ecbb8c55",
   "metadata": {},
   "source": [
    "### Assignment 14: List Rotation\n",
    "\n",
    "Write a function that rotates a list by n positions. Print the original and rotated lists.\n"
   ]
  },
  {
   "cell_type": "code",
   "execution_count": 62,
   "id": "5abe9f62",
   "metadata": {},
   "outputs": [
    {
     "name": "stdout",
     "output_type": "stream",
     "text": [
      "Rotated list: [4, 5, 1, 2, 3]\n"
     ]
    }
   ],
   "source": [
    "list_of_numbers = [1, 2, 3, 4, 5]\n",
    "rotation_number = int(input(\"Enter the rotation number: \"))\n",
    "if rotation_number < 0 or rotation_number >= len(list_of_numbers):\n",
    "    print(\"Invalid rotation number. It should be between 0 and\", len(list_of_numbers) - 1)\n",
    "    \n",
    "rotated_list = list_of_numbers[rotation_number:] + list_of_numbers[:rotation_number]\n",
    "print(\"Rotated list:\", rotated_list)"
   ]
  },
  {
   "cell_type": "markdown",
   "metadata": {},
   "source": [
    "### Assignment 15: List Intersection\n",
    "\n",
    "Write a function that takes two lists and returns a new list containing only the elements that are present in both lists. Print the intersected list."
   ]
  },
  {
   "cell_type": "code",
   "execution_count": 64,
   "metadata": {},
   "outputs": [
    {
     "name": "stdout",
     "output_type": "stream",
     "text": [
      "Intersection of list1 and list2: [4, 5, 6]\n"
     ]
    }
   ],
   "source": [
    "list1 = [1, 2, 3, 4, 5,6]\n",
    "list2 = [4, 5, 6, 7, 8, 9]\n",
    "\n",
    "intersection_list = list(set(list1) & set(list2))\n",
    "print(\"Intersection of list1 and list2:\", intersection_list)"
   ]
  }
 ],
 "metadata": {
  "kernelspec": {
   "display_name": "Python 3",
   "language": "python",
   "name": "python3"
  },
  "language_info": {
   "codemirror_mode": {
    "name": "ipython",
    "version": 3
   },
   "file_extension": ".py",
   "mimetype": "text/x-python",
   "name": "python",
   "nbconvert_exporter": "python",
   "pygments_lexer": "ipython3",
   "version": "3.12.0"
  }
 },
 "nbformat": 4,
 "nbformat_minor": 5
}
