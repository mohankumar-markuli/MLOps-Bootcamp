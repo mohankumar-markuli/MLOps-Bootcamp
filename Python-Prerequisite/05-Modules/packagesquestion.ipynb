{
 "cells": [
  {
   "cell_type": "markdown",
   "id": "d83f3663",
   "metadata": {},
   "source": [
    "# Module 5: Modules and Packages Assignments\n",
    "## Lesson 5.1: Importing Modules\n",
    "### Assignment 1: Importing and Using Modules\n",
    "\n",
    "Import the `math` module and use it to calculate the square root of 25 and the sine of 90 degrees."
   ]
  },
  {
   "cell_type": "code",
   "execution_count": 1,
   "id": "a9268bd0",
   "metadata": {},
   "outputs": [
    {
     "name": "stdout",
     "output_type": "stream",
     "text": [
      "The square root of 10 is 3.1622776601683795\n"
     ]
    }
   ],
   "source": [
    "import math\n",
    "number = int(input(\"Enter a number: \"))\n",
    "sqrt = math.sqrt(number)\n",
    "print(f\"The square root of {number} is {sqrt}\")"
   ]
  },
  {
   "cell_type": "markdown",
   "id": "5bb56994",
   "metadata": {},
   "source": [
    "### Assignment 2: Aliasing Modules\n",
    "\n",
    "Import the `datetime` module with an alias and use it to print the current date and time."
   ]
  },
  {
   "cell_type": "code",
   "execution_count": 3,
   "id": "c1562eac",
   "metadata": {},
   "outputs": [
    {
     "name": "stdout",
     "output_type": "stream",
     "text": [
      "Current date and time: 2025-09-02 12:54:41.214493\n"
     ]
    }
   ],
   "source": [
    "import datetime as dt\n",
    "now = dt.datetime.now()\n",
    "print(f\"Current date and time: {now}\")"
   ]
  },
  {
   "cell_type": "markdown",
   "id": "2d1f0503",
   "metadata": {},
   "source": [
    "### Assignment 3: Importing Specific Functions\n",
    "\n",
    "Import the `randint` function from the `random` module and use it to generate a random integer between 1 and 100."
   ]
  },
  {
   "cell_type": "code",
   "execution_count": 4,
   "id": "84acccf6",
   "metadata": {},
   "outputs": [
    {
     "name": "stdout",
     "output_type": "stream",
     "text": [
      "Random number between 1 and 100: 68\n"
     ]
    }
   ],
   "source": [
    "from random import randint\n",
    "random_number = randint(1, 100)\n",
    "print(f\"Random number between 1 and 100: {random_number}\")\n"
   ]
  },
  {
   "cell_type": "markdown",
   "id": "7f74eb9a",
   "metadata": {},
   "source": [
    "### Assignment 4: Importing Multiple Functions\n",
    "\n",
    "Import the `sqrt` and `pow` functions from the `math` module and use them to calculate the square root of 16 and 2 raised to the power of 3."
   ]
  },
  {
   "cell_type": "code",
   "execution_count": 5,
   "id": "b69fe86e",
   "metadata": {},
   "outputs": [
    {
     "name": "stdout",
     "output_type": "stream",
     "text": [
      "Square root of 16 is 4.0\n",
      "2 raised to the power of 3 is 8.0\n"
     ]
    }
   ],
   "source": [
    "from math import sqrt, pow\n",
    "square_root = sqrt(16)\n",
    "power = pow(2, 3)\n",
    "\n",
    "print(f\"Square root of 16 is {square_root}\")\n",
    "print(f\"2 raised to the power of 3 is {power}\")"
   ]
  },
  {
   "cell_type": "markdown",
   "id": "063d6136",
   "metadata": {},
   "source": [
    "### Assignment 5: Handling Import Errors\n",
    "\n",
    "Write code that attempts to import a non-existent module and gracefully handles the import error by printing an error message."
   ]
  },
  {
   "cell_type": "code",
   "execution_count": null,
   "id": "466ee545",
   "metadata": {},
   "outputs": [
    {
     "name": "stdout",
     "output_type": "stream",
     "text": [
      "Error: The module does\n"
     ]
    }
   ],
   "source": [
    "# try:\n",
    "    # import non_existent_module\n",
    "# except ImportError:\n",
    "    # print(\"Error: The module does\")"
   ]
  },
  {
   "cell_type": "markdown",
   "id": "d7bf868c",
   "metadata": {},
   "source": [
    "## Lesson 5.2: Standard Library Overview\n",
    "### Assignment 6: Working with the `os` Module\n",
    "\n",
    "Use the `os` module to create a new directory, list the contents of the current directory, and remove the newly created directory."
   ]
  },
  {
   "cell_type": "code",
   "execution_count": 5,
   "id": "c847ceec",
   "metadata": {},
   "outputs": [
    {
     "name": "stdout",
     "output_type": "stream",
     "text": [
      "Current working directory: d:\\GitHub\\MLOps-Bootcamp\\Python-Prerequisite\\05-Modules\n",
      "new_directory created\n",
      "['5.1-import.ipynb', '5.2-Standardlibrary.ipynb', 'destination.txt', 'example.csv', 'new_directory', 'package', 'packagesquestion.ipynb', 'source.txt', 'test.py', 'test_dir']\n",
      "new_directory removed\n",
      "['5.1-import.ipynb', '5.2-Standardlibrary.ipynb', 'destination.txt', 'example.csv', 'package', 'packagesquestion.ipynb', 'source.txt', 'test.py', 'test_dir']\n"
     ]
    }
   ],
   "source": [
    "import os\n",
    "current_directory = os.getcwd()\n",
    "print(f\"Current working directory: {current_directory}\")\n",
    "\n",
    "os.mkdir(\"new_directory\")\n",
    "print(\"new_directory created\")\n",
    "print(os.listdir(\".\"))\n",
    "\n",
    "os.rmdir(\"new_directory\")\n",
    "print(\"new_directory removed\")\n",
    "print(os.listdir(\".\"))"
   ]
  },
  {
   "cell_type": "markdown",
   "id": "24af1a2f",
   "metadata": {},
   "source": [
    "### Assignment 7: Working with the `sys` Module\n",
    "\n",
    "Use the `sys` module to print the Python version currently in use and the command-line arguments passed to the script."
   ]
  },
  {
   "cell_type": "code",
   "execution_count": 6,
   "id": "28662c30",
   "metadata": {},
   "outputs": [
    {
     "name": "stdout",
     "output_type": "stream",
     "text": [
      "Python version: 3.12.0 | packaged by Anaconda, Inc. | (main, Oct  2 2023, 17:20:38) [MSC v.1916 64 bit (AMD64)]\n"
     ]
    }
   ],
   "source": [
    "import sys\n",
    "print(f\"Python version: {sys.version}\")\n"
   ]
  },
  {
   "cell_type": "markdown",
   "id": "a0877ce6",
   "metadata": {},
   "source": [
    "### Assignment 8: Working with the `math` Module\n",
    "\n",
    "Use the `math` module to calculate the greatest common divisor (GCD) of two numbers and the factorial of a number."
   ]
  },
  {
   "cell_type": "code",
   "execution_count": 8,
   "id": "a36a6a23",
   "metadata": {},
   "outputs": [
    {
     "name": "stdout",
     "output_type": "stream",
     "text": [
      "GCD of 48 and 18 is 6\n",
      "Factorial of 5 is 120\n"
     ]
    }
   ],
   "source": [
    "import math\n",
    "\n",
    "gcd = math.gcd(48, 18)\n",
    "print(f\"GCD of 48 and 18 is {gcd}\")\n",
    "\n",
    "factorial = math.factorial(5)\n",
    "print(f\"Factorial of 5 is {factorial}\")"
   ]
  },
  {
   "cell_type": "markdown",
   "id": "dfbed051",
   "metadata": {},
   "source": [
    "### Assignment 9: Working with the `datetime` Module\n",
    "\n",
    "Use the `datetime` module to print the current date, calculate the date 100 days from today, and determine the day of the week for a given date."
   ]
  },
  {
   "cell_type": "code",
   "execution_count": 9,
   "id": "1247c811",
   "metadata": {},
   "outputs": [
    {
     "name": "stdout",
     "output_type": "stream",
     "text": [
      "Current date and time: 2025-09-02 17:23:38.983984\n",
      "Date and time after 100 days: 2025-12-11 17:23:38.983984\n"
     ]
    }
   ],
   "source": [
    "import datetime as dt\n",
    "now = dt.datetime.now()\n",
    "\n",
    "print(f\"Current date and time: {now}\")\n",
    "\n",
    "hundred_days_later = now + dt.timedelta(days=100)\n",
    "print(f\"Date and time after 100 days: {hundred_days_later}\")"
   ]
  },
  {
   "cell_type": "markdown",
   "id": "52bfd462",
   "metadata": {},
   "source": [
    "### Assignment 10: Working with the `random` Module\n",
    "\n",
    "Use the `random` module to generate a list of 5 random numbers between 1 and 50 and shuffle the elements of a list."
   ]
  },
  {
   "cell_type": "code",
   "execution_count": 14,
   "id": "4bb4cc78",
   "metadata": {},
   "outputs": [
    {
     "name": "stdout",
     "output_type": "stream",
     "text": [
      "List of 5 random numbers between 1 and 100: [37, 54, 14, 7, 2]\n"
     ]
    }
   ],
   "source": [
    "from random import randint\n",
    "list_of_numbers = [randint(1, 100) for _ in range(5)]\n",
    "print(f\"List of 5 random numbers between 1 and 100: {list_of_numbers}\")"
   ]
  },
  {
   "cell_type": "markdown",
   "id": "4fb83fd3",
   "metadata": {},
   "source": [
    "## Lesson 5.3: Creating and Using Packages\n",
    "### Assignment 11: Creating a Simple Package\n",
    "\n",
    "Create a package named `mypackage` with two modules: `module1` and `module2`. `module1` should contain a function that adds two numbers, and `module2` should contain a function that multiplies two numbers. Write code to use these functions."
   ]
  },
  {
   "cell_type": "code",
   "execution_count": null,
   "id": "a7085dbd",
   "metadata": {},
   "outputs": [],
   "source": [
    "import os\n",
    "os.mkdir(\"mypackage\")\n",
    "os.chdir(\"mypackage\")\n"
   ]
  },
  {
   "cell_type": "markdown",
   "id": "4c76d49d",
   "metadata": {},
   "source": [
    "### Assignment 12: Using `__init__.py`\n",
    "\n",
    "Modify the `mypackage` package to include an `__init__.py` file that imports the functions from `module1` and `module2`. Write code to use these functions."
   ]
  },
  {
   "cell_type": "code",
   "execution_count": null,
   "id": "c0bcfeab",
   "metadata": {},
   "outputs": [],
   "source": [
    "# Create an empty Python file named 'module1.py'\n",
    "with open(\"__init__.py\", \"w\") as f:\n",
    "    pass\n",
    "\n",
    "# Create an empty Python file named 'module1.py'\n",
    "with open(\"module1.py\", \"w\") as f:\n",
    "    pass\n",
    "# Create an empty Python file named 'module2.py'\n",
    "with open(\"module2.py\", \"w\") as f:\n",
    "    pass"
   ]
  },
  {
   "cell_type": "markdown",
   "id": "109eca97",
   "metadata": {},
   "source": [
    "### Assignment 13: Importing from a Package\n",
    "\n",
    "Write code to import and use the functions from `mypackage` without explicitly importing `module1` and `module2`."
   ]
  },
  {
   "cell_type": "code",
   "execution_count": null,
   "id": "b90d7231",
   "metadata": {},
   "outputs": [],
   "source": [
    "from module1 import addition\n",
    "from module2 import multiplication\n",
    "\n",
    "addition(3, 5)\n",
    "multiplication(4, 6)"
   ]
  },
  {
   "cell_type": "markdown",
   "id": "b0f4082b",
   "metadata": {},
   "source": [
    "### Assignment 14: Relative Imports\n",
    "\n",
    "Create a subpackage named `subpackage` within `mypackage` and move `module2` into `subpackage`. Modify the import statements in `__init__.py` to use relative imports. Write code to use the functions from both modules."
   ]
  },
  {
   "cell_type": "code",
   "execution_count": 17,
   "id": "a64fa7e4",
   "metadata": {},
   "outputs": [
    {
     "name": "stdout",
     "output_type": "stream",
     "text": [
      "Current working directory: d:\\GitHub\\MLOps-Bootcamp\\Python-Prerequisite\\05-Modules\\mypackage\n"
     ]
    }
   ],
   "source": [
    "current_directory = os.getcwd()\n",
    "print(f\"Current working directory: {current_directory}\")\n",
    "\n",
    "os.mkdir(\"subpackage\")\n",
    "os.chdir(\"subpackage\")\n",
    "\n",
    "with open(\"__init__.py\", \"w\") as f:\n",
    "    pass\n",
    "with open(\"module3.py\", \"w\") as f:\n",
    "    pass"
   ]
  },
  {
   "cell_type": "code",
   "execution_count": 18,
   "id": "31e2538f",
   "metadata": {},
   "outputs": [
    {
     "data": {
      "text/plain": [
       "5.0"
      ]
     },
     "execution_count": 18,
     "metadata": {},
     "output_type": "execute_result"
    }
   ],
   "source": [
    "from module3 import division\n",
    "division(10, 2)"
   ]
  },
  {
   "cell_type": "code",
   "execution_count": 19,
   "id": "d1151376",
   "metadata": {},
   "outputs": [],
   "source": [
    "os.chdir(\"..\")\n",
    "os.chdir(\"..\")"
   ]
  },
  {
   "cell_type": "code",
   "execution_count": 20,
   "id": "f7cc7705",
   "metadata": {},
   "outputs": [
    {
     "data": {
      "text/plain": [
       "'d:\\\\GitHub\\\\MLOps-Bootcamp\\\\Python-Prerequisite\\\\05-Modules'"
      ]
     },
     "execution_count": 20,
     "metadata": {},
     "output_type": "execute_result"
    }
   ],
   "source": [
    "os.getcwd()"
   ]
  },
  {
   "cell_type": "markdown",
   "metadata": {},
   "source": [
    "### Assignment 15: Handling Package Import Errors\n",
    "\n",
    "Write code that attempts to import a non-existent function from `mypackage` and gracefully handles the import error by printing an error message."
   ]
  },
  {
   "cell_type": "code",
   "execution_count": 21,
   "metadata": {},
   "outputs": [
    {
     "name": "stdout",
     "output_type": "stream",
     "text": [
      "Error: The function does not exist.\n"
     ]
    }
   ],
   "source": [
    "try:\n",
    "    from module1 import subtraction\n",
    "except ImportError:\n",
    "    print(\"Error: The function does not exist.\")"
   ]
  }
 ],
 "metadata": {
  "kernelspec": {
   "display_name": "Python 3",
   "language": "python",
   "name": "python3"
  },
  "language_info": {
   "codemirror_mode": {
    "name": "ipython",
    "version": 3
   },
   "file_extension": ".py",
   "mimetype": "text/x-python",
   "name": "python",
   "nbconvert_exporter": "python",
   "pygments_lexer": "ipython3",
   "version": "3.12.0"
  }
 },
 "nbformat": 4,
 "nbformat_minor": 5
}
