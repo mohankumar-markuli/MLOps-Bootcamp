{
 "cells": [
  {
   "cell_type": "markdown",
   "metadata": {},
   "source": [
    "# Lesson 1.2: Python Basics\n",
    "## Topics Covered:\n",
    "- Syntax and Semantics\n",
    "- Variables and Data Types\n",
    "- Basic Operators (Arithmetic, Comparison, Logical)\n"
   ]
  },
  {
   "cell_type": "markdown",
   "metadata": {},
   "source": [
    "## 1. Syntax and Semantics\n",
    "\n",
    "**Question 1:** Write a Python program to print \"Hello, World!\"."
   ]
  },
  {
   "cell_type": "code",
   "execution_count": null,
   "metadata": {},
   "outputs": [
    {
     "name": "stdout",
     "output_type": "stream",
     "text": [
      "Hello World\n"
     ]
    }
   ],
   "source": [
    "# Your code here\n",
    "print(\"Hello World\")"
   ]
  },
  {
   "cell_type": "markdown",
   "metadata": {},
   "source": [
    "**Question 2:** Write a Python program that takes a user input and prints it."
   ]
  },
  {
   "cell_type": "code",
   "execution_count": 3,
   "metadata": {},
   "outputs": [
    {
     "name": "stdout",
     "output_type": "stream",
     "text": [
      "Mohankumar\n"
     ]
    }
   ],
   "source": [
    "# Your code here\n",
    "print(input(\"Enter your name: \"))\n"
   ]
  },
  {
   "cell_type": "markdown",
   "metadata": {},
   "source": [
    "**Question 3:** Write a Python program to check if a number is positive, negative, or zero."
   ]
  },
  {
   "cell_type": "code",
   "execution_count": 4,
   "metadata": {},
   "outputs": [
    {
     "name": "stdout",
     "output_type": "stream",
     "text": [
      "The number is positive\n"
     ]
    }
   ],
   "source": [
    "# Your code here\n",
    "input_number = float(input(\"Enter a number: \"))\n",
    "if input_number > 0:\n",
    "    print(\"The number is positive\")\n",
    "elif input_number < 0:\n",
    "    print(\"The number is negative\")\n",
    "else:\n",
    "    print(\"The number is zero\")"
   ]
  },
  {
   "cell_type": "markdown",
   "metadata": {},
   "source": [
    "**Question 4:** Write a Python program to find the largest of three numbers."
   ]
  },
  {
   "cell_type": "code",
   "execution_count": 6,
   "metadata": {},
   "outputs": [
    {
     "name": "stdout",
     "output_type": "stream",
     "text": [
      "The largest number is 30.0\n"
     ]
    }
   ],
   "source": [
    "# Your code here\n",
    "num1 = float(input(\"Enter first number: \"))\n",
    "num2 = float(input(\"Enter second number: \"))\n",
    "num3 = float(input(\"Enter third number: \"))\n",
    "if num1 >= num2 and num1 >= num3:\n",
    "    largest = num1\n",
    "elif num2 >= num1 and num2 >= num3:\n",
    "    largest = num2\n",
    "else:\n",
    "    largest = num3\n",
    "\n",
    "print(\"The largest number is\", largest)"
   ]
  },
  {
   "cell_type": "markdown",
   "metadata": {},
   "source": [
    "**Question 5:** Write a Python program to calculate the factorial of a number."
   ]
  },
  {
   "cell_type": "code",
   "execution_count": 11,
   "metadata": {},
   "outputs": [
    {
     "name": "stdout",
     "output_type": "stream",
     "text": [
      "The factorial of 4 is 24\n"
     ]
    }
   ],
   "source": [
    "# Your code here\n",
    "number = int(input(\"Enter a number: \"))\n",
    "factorial = 1\n",
    "for i in range(number):\n",
    "    factorial = factorial * (i + 1)\n",
    "\n",
    "print(\"The factorial of\", number, \"is\", factorial)\n",
    "    "
   ]
  },
  {
   "cell_type": "markdown",
   "metadata": {},
   "source": [
    "## 2. Variables and Data Types\n",
    "\n",
    "**Question 6:** Create variables of different data types: integer, float, string, and boolean. Print their values and types."
   ]
  },
  {
   "cell_type": "code",
   "execution_count": 14,
   "metadata": {},
   "outputs": [
    {
     "name": "stdout",
     "output_type": "stream",
     "text": [
      "Integer variable: 10 <class 'int'>\n",
      "Float variable: 10.5 <class 'float'>\n",
      "String variable: Hello <class 'str'>\n",
      "Boolean variable 1: True <class 'bool'>\n",
      "Boolean variable 2: False <class 'bool'>\n"
     ]
    }
   ],
   "source": [
    "# Your code here\n",
    "int_varialble = 10\n",
    "float_variable = 10.5\n",
    "string_variable = \"Hello\"\n",
    "boolean_variable1 = True\n",
    "boolean_variable2 = False\n",
    "\n",
    "print(\"Integer variable:\", int_varialble,type(int_varialble))\n",
    "print(\"Float variable:\", float_variable, type(float_variable))\n",
    "print(\"String variable:\", string_variable, type(string_variable))\n",
    "print(\"Boolean variable 1:\", boolean_variable1, type(boolean_variable1))\n",
    "print(\"Boolean variable 2:\", boolean_variable2, type(boolean_variable2))"
   ]
  },
  {
   "cell_type": "markdown",
   "metadata": {},
   "source": [
    "**Question 7:** Write a Python program to swap the values of two variables."
   ]
  },
  {
   "cell_type": "code",
   "execution_count": 16,
   "metadata": {},
   "outputs": [
    {
     "name": "stdout",
     "output_type": "stream",
     "text": [
      "Value 1: 20\n",
      "Value 2: 10\n"
     ]
    }
   ],
   "source": [
    "# Your code here\n",
    "value1 = 10\n",
    "value2 = 20\n",
    "\n",
    "temp_value = value1\n",
    "value1 = value2\n",
    "value2 = temp_value\n",
    "\n",
    "print(\"Value 1:\", value1)\n",
    "print(\"Value 2:\", value2)"
   ]
  },
  {
   "cell_type": "markdown",
   "metadata": {},
   "source": [
    "**Question 8:** Write a Python program to convert Celsius to Fahrenheit."
   ]
  },
  {
   "cell_type": "code",
   "execution_count": 17,
   "metadata": {},
   "outputs": [
    {
     "name": "stdout",
     "output_type": "stream",
     "text": [
      "Temperature in Fahrenheit: 82.4\n"
     ]
    }
   ],
   "source": [
    "# Your code here\n",
    "Celsius = float(input(\"Enter temperature in Celsius: \"))\n",
    "Fahrenheit = (Celsius * 9/5) + 32\n",
    "print(\"Temperature in Fahrenheit:\", Fahrenheit)"
   ]
  },
  {
   "cell_type": "markdown",
   "metadata": {},
   "source": [
    "**Question 9:** Write a Python program to concatenate two strings."
   ]
  },
  {
   "cell_type": "code",
   "execution_count": 18,
   "metadata": {},
   "outputs": [
    {
     "name": "stdout",
     "output_type": "stream",
     "text": [
      "Concatenated string: Hello World\n"
     ]
    }
   ],
   "source": [
    "# Your code here\n",
    "string_variable1 = \"Hello\"\n",
    "string_variable2 = \"World\"\n",
    "concatenated_string = string_variable1 + \" \" + string_variable2\n",
    "print(\"Concatenated string:\", concatenated_string)"
   ]
  },
  {
   "cell_type": "markdown",
   "metadata": {},
   "source": [
    "**Question 10:** Write a Python program to check if a variable is of a specific data type."
   ]
  },
  {
   "cell_type": "code",
   "execution_count": 22,
   "metadata": {},
   "outputs": [
    {
     "name": "stdout",
     "output_type": "stream",
     "text": [
      "Its True\n"
     ]
    }
   ],
   "source": [
    "# Your code here\n",
    "variable = 10\n",
    "if type(variable) == int:\n",
    "    print(\"Its True\")\n",
    "else:\n",
    "   print(\"Its False\")"
   ]
  },
  {
   "cell_type": "markdown",
   "metadata": {},
   "source": [
    "## 3. Basic Operators (Arithmetic, Comparison, Logical)\n",
    "\n",
    "**Question 11:** Write a Python program to perform arithmetic operations: addition, subtraction, multiplication, and division."
   ]
  },
  {
   "cell_type": "code",
   "execution_count": 26,
   "metadata": {},
   "outputs": [
    {
     "name": "stdout",
     "output_type": "stream",
     "text": [
      "Addition: 13.0\n",
      "Subtraction: 7.0\n",
      "Multiplication: 30.0\n",
      "Division: 3.3333333333333335\n",
      "Floor Division: 3.0\n"
     ]
    }
   ],
   "source": [
    "# Your code here\n",
    "value1 = float(input(\"Enter a value1: \"))\n",
    "value2 = float(input(\"Enter a value2: \"))\n",
    "\n",
    "addition = value1 + value2\n",
    "subtraction = value1 - value2\n",
    "multiplication = value1 * value2\n",
    "division = value1 / value2\n",
    "floor_division = value1 // value2\n",
    "\n",
    "print(\"Addition:\", addition)\n",
    "print(\"Subtraction:\", subtraction)\n",
    "print(\"Multiplication:\", multiplication)\n",
    "print(\"Division:\", division)\n",
    "print(\"Floor Division:\", floor_division)"
   ]
  },
  {
   "cell_type": "markdown",
   "metadata": {},
   "source": [
    "**Question 12:** Write a Python program to demonstrate comparison operators: equal to, not equal to, greater than, less than."
   ]
  },
  {
   "cell_type": "code",
   "execution_count": 29,
   "metadata": {},
   "outputs": [
    {
     "name": "stdout",
     "output_type": "stream",
     "text": [
      "True\n",
      "False\n",
      "True\n",
      "False\n",
      "False\n",
      "True\n"
     ]
    }
   ],
   "source": [
    "# Your code here\n",
    "value1 = float(input(\"Enter a value1: \"))\n",
    "value2 = float(input(\"Enter a value2: \"))\n",
    "\n",
    "print(value1 > value2)\n",
    "print(value1 < value2)\n",
    "print(value1 >= value2)\n",
    "print(value1 <= value2)\n",
    "print(value1 == value2)\n",
    "print(value1 != value2)"
   ]
  },
  {
   "cell_type": "markdown",
   "metadata": {},
   "source": [
    "**Question 13:** Write a Python program to demonstrate logical operators: and, or, not."
   ]
  },
  {
   "cell_type": "code",
   "execution_count": 46,
   "metadata": {},
   "outputs": [
    {
     "name": "stdout",
     "output_type": "stream",
     "text": [
      "AND Operator\n",
      "True and True :  True\n",
      "True and False :  False\n",
      "False and True :  False\n",
      "False and False :  False \n",
      "\n",
      "OR Operator\n",
      "True or True :  True\n",
      "True or False :  True\n",
      "False or True :  True\n",
      "False or False :  False \n",
      "\n",
      "NOT Operator\n",
      "not True :  False\n",
      "not False :  True\n",
      "not 10 :  False\n"
     ]
    }
   ],
   "source": [
    "# Your code here\n",
    "print(\"AND Operator\")\n",
    "print(\"True and True : \",True and True)\n",
    "print(\"True and False : \",True and False)\n",
    "print(\"False and True : \",False and True)\n",
    "print(\"False and False : \",False and False,\"\\n\")\n",
    "\n",
    "print(\"OR Operator\")\n",
    "\n",
    "print(\"True or True : \",True or True)\n",
    "print(\"True or False : \",True or False)\n",
    "print(\"False or True : \",False or True)\n",
    "print(\"False or False : \",False or False,\"\\n\")\n",
    "\n",
    "print(\"NOT Operator\")\n",
    "\n",
    "print(\"not True : \",not True)\n",
    "print(\"not False : \",not False)\n",
    "print(\"not 10 : \",not 10)   "
   ]
  },
  {
   "cell_type": "markdown",
   "metadata": {},
   "source": [
    "**Question 14:** Write a Python program to calculate the square of a number."
   ]
  },
  {
   "cell_type": "code",
   "execution_count": 47,
   "metadata": {},
   "outputs": [
    {
     "name": "stdout",
     "output_type": "stream",
     "text": [
      "The square of 10 is 100\n"
     ]
    }
   ],
   "source": [
    "# Your code here\n",
    "number = int(input(\"Enter a number: \"))\n",
    "print(\"The square of\", number, \"is\", number ** 2)\n",
    "# Your code here"
   ]
  },
  {
   "cell_type": "markdown",
   "metadata": {},
   "source": [
    "**Question 15:** Write a Python program to check if a number is even or odd."
   ]
  },
  {
   "cell_type": "code",
   "execution_count": 48,
   "metadata": {},
   "outputs": [
    {
     "name": "stdout",
     "output_type": "stream",
     "text": [
      "2 is even\n"
     ]
    }
   ],
   "source": [
    "# Your code here\n",
    "number = int(input(\"Enter a number: \"))\n",
    "if number % 2 == 0:\n",
    "    print(number, \"is even\")\n",
    "else:\n",
    "    print(number, \"is odd\")"
   ]
  },
  {
   "cell_type": "markdown",
   "metadata": {},
   "source": [
    "**Question 16:** Write a Python program to find the sum of the first n natural numbers."
   ]
  },
  {
   "cell_type": "code",
   "execution_count": 50,
   "metadata": {},
   "outputs": [
    {
     "name": "stdout",
     "output_type": "stream",
     "text": [
      "The sum of numbers from 1 to 4 is 10\n"
     ]
    }
   ],
   "source": [
    "# Your code here\n",
    "number = int(input(\"Enter a number: \"))\n",
    "sum = 0\n",
    "for i in range(1, number + 1):\n",
    "    sum += i\n",
    "print(\"The sum of numbers from 1 to\", number, \"is\", sum)\n"
   ]
  },
  {
   "cell_type": "markdown",
   "metadata": {},
   "source": [
    "**Question 17:** Write a Python program to check if a year is a leap year."
   ]
  },
  {
   "cell_type": "code",
   "execution_count": 51,
   "metadata": {},
   "outputs": [
    {
     "name": "stdout",
     "output_type": "stream",
     "text": [
      "2012 is a leap year\n"
     ]
    }
   ],
   "source": [
    "# Your code here\n",
    "year = int(input(\"Enter a year: \"))\n",
    "if (year % 4 == 0 and year % 100 != 0) or (year % 400 == 0):\n",
    "    print(year, \"is a leap year\")"
   ]
  },
  {
   "cell_type": "markdown",
   "metadata": {},
   "source": [
    "**Question 18:** Write a Python program to reverse a string."
   ]
  },
  {
   "cell_type": "code",
   "execution_count": 52,
   "metadata": {},
   "outputs": [
    {
     "name": "stdout",
     "output_type": "stream",
     "text": [
      "Reversed string: nahoM\n"
     ]
    }
   ],
   "source": [
    "# Your code here\n",
    "string_variable = input(\"Enter a string: \")\n",
    "reversed_string = string_variable[::-1]\n",
    "print(\"Reversed string:\", reversed_string)"
   ]
  },
  {
   "cell_type": "markdown",
   "metadata": {},
   "source": [
    "**Question 19:** Write a Python program to check if a string is a palindrome."
   ]
  },
  {
   "cell_type": "code",
   "execution_count": 56,
   "metadata": {},
   "outputs": [
    {
     "name": "stdout",
     "output_type": "stream",
     "text": [
      "Reversed string: MooM\n",
      "The string is a palindrome\n"
     ]
    }
   ],
   "source": [
    "# Your code here\n",
    "string_variable = input(\"Enter a string: \")\n",
    "reversed_string = \"\"\n",
    "for char in string_variable:\n",
    "    reversed_string = char + reversed_string\n",
    "print(\"Reversed string:\", reversed_string)\n",
    "\n",
    "if string_variable == reversed_string:\n",
    "    print(\"The string is a palindrome\")\n",
    "else:\n",
    "    print(\"The string is not a palindrome\")"
   ]
  },
  {
   "cell_type": "markdown",
   "metadata": {},
   "source": [
    "**Question 20:** Write a Python program to sort a list of numbers in ascending order."
   ]
  },
  {
   "cell_type": "code",
   "execution_count": 77,
   "metadata": {},
   "outputs": [
    {
     "name": "stdout",
     "output_type": "stream",
     "text": [
      "Sorted list: [2, 2, 3, 4, 5]\n",
      "Sorted list in descending order: [5, 4, 3, 2, 2]\n"
     ]
    }
   ],
   "source": [
    "# Your code here\n",
    "lst_variable = [3,5,2,4,2]\n",
    "lst_variable.sort()\n",
    "print(\"Sorted list:\", lst_variable)\n",
    "\n",
    "# Your code here\n",
    "lst_variable = [3,5,2,4,2]  \n",
    "lst_variable.sort(reverse=True)\n",
    "print(\"Sorted list in descending order:\", lst_variable)"
   ]
  }
 ],
 "metadata": {
  "kernelspec": {
   "display_name": "Python 3",
   "language": "python",
   "name": "python3"
  },
  "language_info": {
   "codemirror_mode": {
    "name": "ipython",
    "version": 3
   },
   "file_extension": ".py",
   "mimetype": "text/x-python",
   "name": "python",
   "nbconvert_exporter": "python",
   "pygments_lexer": "ipython3",
   "version": "3.12.9"
  }
 },
 "nbformat": 4,
 "nbformat_minor": 4
}
